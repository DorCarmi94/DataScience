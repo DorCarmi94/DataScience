{
 "cells": [
  {
   "cell_type": "markdown",
   "id": "7201353a",
   "metadata": {
    "_uuid": "e02fa7399570bf75d0b6d3d2ca37d037db1a13ff",
    "papermill": {
     "duration": 0.037812,
     "end_time": "2021-11-16T20:45:01.218916",
     "exception": false,
     "start_time": "2021-11-16T20:45:01.181104",
     "status": "completed"
    },
    "tags": []
   },
   "source": [
    "# Import the required modules"
   ]
  },
  {
   "cell_type": "code",
   "execution_count": 1,
   "id": "d5e47c38",
   "metadata": {
    "execution": {
     "iopub.execute_input": "2021-11-16T20:45:01.298093Z",
     "iopub.status.busy": "2021-11-16T20:45:01.296267Z",
     "iopub.status.idle": "2021-11-16T20:45:21.502049Z",
     "shell.execute_reply": "2021-11-16T20:45:21.501239Z",
     "shell.execute_reply.started": "2021-11-16T19:54:47.143134Z"
    },
    "papermill": {
     "duration": 20.246536,
     "end_time": "2021-11-16T20:45:21.502230",
     "exception": false,
     "start_time": "2021-11-16T20:45:01.255694",
     "status": "completed"
    },
    "tags": []
   },
   "outputs": [
    {
     "name": "stdout",
     "output_type": "stream",
     "text": [
      "Collecting git+https://github.com/goolig/dsClass.git\r\n",
      "  Cloning https://github.com/goolig/dsClass.git to /tmp/pip-req-build-b40halzl\r\n",
      "  Running command git clone -q https://github.com/goolig/dsClass.git /tmp/pip-req-build-b40halzl\r\n",
      "  Resolved https://github.com/goolig/dsClass.git to commit 67567d1d71a8a747c8a68c621045fe53ff139103\r\n",
      "Collecting pydotplus\r\n",
      "  Downloading pydotplus-2.0.2.tar.gz (278 kB)\r\n",
      "\u001b[K     |████████████████████████████████| 278 kB 918 kB/s \r\n",
      "\u001b[?25hRequirement already satisfied: pyparsing>=2.0.1 in /opt/conda/lib/python3.7/site-packages (from pydotplus->dsClass==1.0.27) (2.4.7)\r\n",
      "Building wheels for collected packages: dsClass, pydotplus\r\n",
      "  Building wheel for dsClass (setup.py) ... \u001b[?25l-\b \b\\\b \b|\b \b/\b \b-\b \b\\\b \b|\b \b/\b \b-\b \b\\\b \b|\b \bdone\r\n",
      "\u001b[?25h  Created wheel for dsClass: filename=dsClass-1.0.27-py3-none-any.whl size=16372733 sha256=518ebfbb7356a6cb0567274c8f4f02a6ba22017953562d766eb92caf2b77dfb1\r\n",
      "  Stored in directory: /tmp/pip-ephem-wheel-cache-q24gr9tc/wheels/cc/7d/ca/f5036d591d94a23e6ab49777866b7fc723500ce0dcdb2a9b2e\r\n",
      "  Building wheel for pydotplus (setup.py) ... \u001b[?25l-\b \b\\\b \bdone\r\n",
      "\u001b[?25h  Created wheel for pydotplus: filename=pydotplus-2.0.2-py3-none-any.whl size=24575 sha256=1bfb97076645aada7b54b2de08cc16c7e6a90c3d802465754205ace75d3dc583\r\n",
      "  Stored in directory: /root/.cache/pip/wheels/1e/7b/04/7387cf6cc9e48b4a96e361b0be812f0708b394b821bf8c9c50\r\n",
      "Successfully built dsClass pydotplus\r\n",
      "Installing collected packages: pydotplus, dsClass\r\n",
      "Successfully installed dsClass-1.0.27 pydotplus-2.0.2\r\n",
      "\u001b[33mWARNING: Running pip as the 'root' user can result in broken permissions and conflicting behaviour with the system package manager. It is recommended to use a virtual environment instead: https://pip.pypa.io/warnings/venv\u001b[0m\r\n"
     ]
    }
   ],
   "source": [
    "!pip install git+https://github.com/goolig/dsClass.git"
   ]
  },
  {
   "cell_type": "code",
   "execution_count": 2,
   "id": "548e64e0",
   "metadata": {
    "_uuid": "f3053207957a55dd128e2b97dee5b72eb2e011f7",
    "execution": {
     "iopub.execute_input": "2021-11-16T20:45:21.603663Z",
     "iopub.status.busy": "2021-11-16T20:45:21.602926Z",
     "iopub.status.idle": "2021-11-16T20:45:22.791273Z",
     "shell.execute_reply": "2021-11-16T20:45:22.790691Z",
     "shell.execute_reply.started": "2021-11-16T19:55:06.671583Z"
    },
    "papermill": {
     "duration": 1.243578,
     "end_time": "2021-11-16T20:45:22.791454",
     "exception": false,
     "start_time": "2021-11-16T20:45:21.547876",
     "status": "completed"
    },
    "tags": []
   },
   "outputs": [],
   "source": [
    "\n",
    "%matplotlib inline\n",
    "\n",
    "import pandas as pd\n",
    "import numpy as np\n",
    "import matplotlib.pyplot as plt\n",
    "from sklearn.feature_selection import SelectPercentile, f_classif, chi2, SelectKBest, SelectFpr\n",
    "from sklearn.tree import DecisionTreeClassifier, export_graphviz\n",
    "from sklearn.metrics import confusion_matrix, accuracy_score, precision_recall_fscore_support\n",
    "\n",
    "from dsClass.path_helper import *\n",
    "\n"
   ]
  },
  {
   "cell_type": "code",
   "execution_count": 3,
   "id": "4dfa7492",
   "metadata": {
    "_uuid": "b0d4745ea3d7d8ec62583590bb37baeb1038eeab",
    "execution": {
     "iopub.execute_input": "2021-11-16T20:45:22.888904Z",
     "iopub.status.busy": "2021-11-16T20:45:22.886109Z",
     "iopub.status.idle": "2021-11-16T20:45:23.108822Z",
     "shell.execute_reply": "2021-11-16T20:45:23.109357Z",
     "shell.execute_reply.started": "2021-11-16T19:55:10.467356Z"
    },
    "papermill": {
     "duration": 0.271182,
     "end_time": "2021-11-16T20:45:23.109542",
     "exception": false,
     "start_time": "2021-11-16T20:45:22.838360",
     "status": "completed"
    },
    "tags": []
   },
   "outputs": [
    {
     "name": "stdout",
     "output_type": "stream",
     "text": [
      "(204000, 9)\n"
     ]
    },
    {
     "data": {
      "text/html": [
       "<div>\n",
       "<style scoped>\n",
       "    .dataframe tbody tr th:only-of-type {\n",
       "        vertical-align: middle;\n",
       "    }\n",
       "\n",
       "    .dataframe tbody tr th {\n",
       "        vertical-align: top;\n",
       "    }\n",
       "\n",
       "    .dataframe thead th {\n",
       "        text-align: right;\n",
       "    }\n",
       "</style>\n",
       "<table border=\"1\" class=\"dataframe\">\n",
       "  <thead>\n",
       "    <tr style=\"text-align: right;\">\n",
       "      <th></th>\n",
       "      <th>d_id</th>\n",
       "      <th>time</th>\n",
       "      <th>bb_count</th>\n",
       "      <th>r-w_rate</th>\n",
       "      <th>reconsects_count</th>\n",
       "      <th>recovbydrv_count</th>\n",
       "      <th>xfer_rate</th>\n",
       "      <th>bb_diffs</th>\n",
       "      <th>fail</th>\n",
       "    </tr>\n",
       "  </thead>\n",
       "  <tbody>\n",
       "    <tr>\n",
       "      <th>0</th>\n",
       "      <td>1</td>\n",
       "      <td>V1</td>\n",
       "      <td>-5</td>\n",
       "      <td>14</td>\n",
       "      <td>0</td>\n",
       "      <td>9</td>\n",
       "      <td>85</td>\n",
       "      <td>0</td>\n",
       "      <td>True</td>\n",
       "    </tr>\n",
       "    <tr>\n",
       "      <th>1</th>\n",
       "      <td>1</td>\n",
       "      <td>V2</td>\n",
       "      <td>5</td>\n",
       "      <td>15</td>\n",
       "      <td>0</td>\n",
       "      <td>17</td>\n",
       "      <td>76</td>\n",
       "      <td>0</td>\n",
       "      <td>True</td>\n",
       "    </tr>\n",
       "    <tr>\n",
       "      <th>2</th>\n",
       "      <td>1</td>\n",
       "      <td>V3</td>\n",
       "      <td>14</td>\n",
       "      <td>11</td>\n",
       "      <td>0</td>\n",
       "      <td>24</td>\n",
       "      <td>87</td>\n",
       "      <td>0</td>\n",
       "      <td>True</td>\n",
       "    </tr>\n",
       "    <tr>\n",
       "      <th>3</th>\n",
       "      <td>1</td>\n",
       "      <td>V4</td>\n",
       "      <td>22</td>\n",
       "      <td>7</td>\n",
       "      <td>0</td>\n",
       "      <td>31</td>\n",
       "      <td>75</td>\n",
       "      <td>0</td>\n",
       "      <td>True</td>\n",
       "    </tr>\n",
       "    <tr>\n",
       "      <th>4</th>\n",
       "      <td>1</td>\n",
       "      <td>V5</td>\n",
       "      <td>29</td>\n",
       "      <td>11</td>\n",
       "      <td>0</td>\n",
       "      <td>42</td>\n",
       "      <td>81</td>\n",
       "      <td>0</td>\n",
       "      <td>True</td>\n",
       "    </tr>\n",
       "    <tr>\n",
       "      <th>...</th>\n",
       "      <td>...</td>\n",
       "      <td>...</td>\n",
       "      <td>...</td>\n",
       "      <td>...</td>\n",
       "      <td>...</td>\n",
       "      <td>...</td>\n",
       "      <td>...</td>\n",
       "      <td>...</td>\n",
       "      <td>...</td>\n",
       "    </tr>\n",
       "    <tr>\n",
       "      <th>203995</th>\n",
       "      <td>10200</td>\n",
       "      <td>V16</td>\n",
       "      <td>165</td>\n",
       "      <td>7</td>\n",
       "      <td>29</td>\n",
       "      <td>185</td>\n",
       "      <td>83</td>\n",
       "      <td>0</td>\n",
       "      <td>False</td>\n",
       "    </tr>\n",
       "    <tr>\n",
       "      <th>203996</th>\n",
       "      <td>10200</td>\n",
       "      <td>V17</td>\n",
       "      <td>171</td>\n",
       "      <td>7</td>\n",
       "      <td>29</td>\n",
       "      <td>190</td>\n",
       "      <td>81</td>\n",
       "      <td>0</td>\n",
       "      <td>False</td>\n",
       "    </tr>\n",
       "    <tr>\n",
       "      <th>203997</th>\n",
       "      <td>10200</td>\n",
       "      <td>V18</td>\n",
       "      <td>182</td>\n",
       "      <td>11</td>\n",
       "      <td>31</td>\n",
       "      <td>198</td>\n",
       "      <td>96</td>\n",
       "      <td>2</td>\n",
       "      <td>False</td>\n",
       "    </tr>\n",
       "    <tr>\n",
       "      <th>203998</th>\n",
       "      <td>10200</td>\n",
       "      <td>V19</td>\n",
       "      <td>190</td>\n",
       "      <td>12</td>\n",
       "      <td>31</td>\n",
       "      <td>204</td>\n",
       "      <td>81</td>\n",
       "      <td>0</td>\n",
       "      <td>False</td>\n",
       "    </tr>\n",
       "    <tr>\n",
       "      <th>203999</th>\n",
       "      <td>10200</td>\n",
       "      <td>V20</td>\n",
       "      <td>195</td>\n",
       "      <td>7</td>\n",
       "      <td>32</td>\n",
       "      <td>209</td>\n",
       "      <td>88</td>\n",
       "      <td>1</td>\n",
       "      <td>False</td>\n",
       "    </tr>\n",
       "  </tbody>\n",
       "</table>\n",
       "<p>204000 rows × 9 columns</p>\n",
       "</div>"
      ],
      "text/plain": [
       "         d_id time  bb_count  r-w_rate  reconsects_count  recovbydrv_count  \\\n",
       "0           1   V1        -5        14                 0                 9   \n",
       "1           1   V2         5        15                 0                17   \n",
       "2           1   V3        14        11                 0                24   \n",
       "3           1   V4        22         7                 0                31   \n",
       "4           1   V5        29        11                 0                42   \n",
       "...       ...  ...       ...       ...               ...               ...   \n",
       "203995  10200  V16       165         7                29               185   \n",
       "203996  10200  V17       171         7                29               190   \n",
       "203997  10200  V18       182        11                31               198   \n",
       "203998  10200  V19       190        12                31               204   \n",
       "203999  10200  V20       195         7                32               209   \n",
       "\n",
       "        xfer_rate  bb_diffs   fail  \n",
       "0              85         0   True  \n",
       "1              76         0   True  \n",
       "2              87         0   True  \n",
       "3              75         0   True  \n",
       "4              81         0   True  \n",
       "...           ...       ...    ...  \n",
       "203995         83         0  False  \n",
       "203996         81         0  False  \n",
       "203997         96         2  False  \n",
       "203998         81         0  False  \n",
       "203999         88         1  False  \n",
       "\n",
       "[204000 rows x 9 columns]"
      ]
     },
     "execution_count": 3,
     "metadata": {},
     "output_type": "execute_result"
    }
   ],
   "source": [
    "ts_file_path = get_file_path('ts_data.csv')\n",
    "ts_data = pd.read_csv(ts_file_path)\n",
    "print(ts_data.shape)\n",
    "ts_data"
   ]
  },
  {
   "cell_type": "markdown",
   "id": "3c71ce80",
   "metadata": {
    "_uuid": "3733016e2c0d33604da5476e7730c7c35beb4c79",
    "papermill": {
     "duration": 0.045713,
     "end_time": "2021-11-16T20:45:23.201790",
     "exception": false,
     "start_time": "2021-11-16T20:45:23.156077",
     "status": "completed"
    },
    "tags": []
   },
   "source": [
    "# Load the time-series data and lookt at the features statistics"
   ]
  },
  {
   "cell_type": "code",
   "execution_count": 4,
   "id": "75262d07",
   "metadata": {
    "_uuid": "e37c102678d1a4e51d84cba8c15b06d85cd64d02",
    "execution": {
     "iopub.execute_input": "2021-11-16T20:45:23.296767Z",
     "iopub.status.busy": "2021-11-16T20:45:23.296065Z",
     "iopub.status.idle": "2021-11-16T20:45:23.441007Z",
     "shell.execute_reply": "2021-11-16T20:45:23.440340Z",
     "shell.execute_reply.started": "2021-11-16T19:55:12.892650Z"
    },
    "papermill": {
     "duration": 0.193335,
     "end_time": "2021-11-16T20:45:23.441153",
     "exception": false,
     "start_time": "2021-11-16T20:45:23.247818",
     "status": "completed"
    },
    "tags": []
   },
   "outputs": [
    {
     "data": {
      "text/html": [
       "<div>\n",
       "<style scoped>\n",
       "    .dataframe tbody tr th:only-of-type {\n",
       "        vertical-align: middle;\n",
       "    }\n",
       "\n",
       "    .dataframe tbody tr th {\n",
       "        vertical-align: top;\n",
       "    }\n",
       "\n",
       "    .dataframe thead tr th {\n",
       "        text-align: left;\n",
       "    }\n",
       "\n",
       "    .dataframe thead tr:last-of-type th {\n",
       "        text-align: right;\n",
       "    }\n",
       "</style>\n",
       "<table border=\"1\" class=\"dataframe\">\n",
       "  <thead>\n",
       "    <tr>\n",
       "      <th></th>\n",
       "      <th colspan=\"8\" halign=\"left\">d_id</th>\n",
       "      <th colspan=\"2\" halign=\"left\">bb_count</th>\n",
       "      <th>...</th>\n",
       "      <th colspan=\"2\" halign=\"left\">xfer_rate</th>\n",
       "      <th colspan=\"8\" halign=\"left\">bb_diffs</th>\n",
       "    </tr>\n",
       "    <tr>\n",
       "      <th></th>\n",
       "      <th>count</th>\n",
       "      <th>mean</th>\n",
       "      <th>std</th>\n",
       "      <th>min</th>\n",
       "      <th>25%</th>\n",
       "      <th>50%</th>\n",
       "      <th>75%</th>\n",
       "      <th>max</th>\n",
       "      <th>count</th>\n",
       "      <th>mean</th>\n",
       "      <th>...</th>\n",
       "      <th>75%</th>\n",
       "      <th>max</th>\n",
       "      <th>count</th>\n",
       "      <th>mean</th>\n",
       "      <th>std</th>\n",
       "      <th>min</th>\n",
       "      <th>25%</th>\n",
       "      <th>50%</th>\n",
       "      <th>75%</th>\n",
       "      <th>max</th>\n",
       "    </tr>\n",
       "    <tr>\n",
       "      <th>fail</th>\n",
       "      <th></th>\n",
       "      <th></th>\n",
       "      <th></th>\n",
       "      <th></th>\n",
       "      <th></th>\n",
       "      <th></th>\n",
       "      <th></th>\n",
       "      <th></th>\n",
       "      <th></th>\n",
       "      <th></th>\n",
       "      <th></th>\n",
       "      <th></th>\n",
       "      <th></th>\n",
       "      <th></th>\n",
       "      <th></th>\n",
       "      <th></th>\n",
       "      <th></th>\n",
       "      <th></th>\n",
       "      <th></th>\n",
       "      <th></th>\n",
       "      <th></th>\n",
       "    </tr>\n",
       "  </thead>\n",
       "  <tbody>\n",
       "    <tr>\n",
       "      <th>False</th>\n",
       "      <td>200000.0</td>\n",
       "      <td>5200.5</td>\n",
       "      <td>2886.758548</td>\n",
       "      <td>201.0</td>\n",
       "      <td>2700.75</td>\n",
       "      <td>5200.5</td>\n",
       "      <td>7700.25</td>\n",
       "      <td>10200.0</td>\n",
       "      <td>200000.0</td>\n",
       "      <td>97.986965</td>\n",
       "      <td>...</td>\n",
       "      <td>83.0</td>\n",
       "      <td>148.0</td>\n",
       "      <td>200000.0</td>\n",
       "      <td>3.01709</td>\n",
       "      <td>2.466513</td>\n",
       "      <td>0.0</td>\n",
       "      <td>1.0</td>\n",
       "      <td>3.0</td>\n",
       "      <td>4.0</td>\n",
       "      <td>22.0</td>\n",
       "    </tr>\n",
       "    <tr>\n",
       "      <th>True</th>\n",
       "      <td>4000.0</td>\n",
       "      <td>100.5</td>\n",
       "      <td>57.741523</td>\n",
       "      <td>1.0</td>\n",
       "      <td>50.75</td>\n",
       "      <td>100.5</td>\n",
       "      <td>150.25</td>\n",
       "      <td>200.0</td>\n",
       "      <td>4000.0</td>\n",
       "      <td>122.358000</td>\n",
       "      <td>...</td>\n",
       "      <td>104.0</td>\n",
       "      <td>145.0</td>\n",
       "      <td>4000.0</td>\n",
       "      <td>1.04475</td>\n",
       "      <td>1.390227</td>\n",
       "      <td>0.0</td>\n",
       "      <td>0.0</td>\n",
       "      <td>0.0</td>\n",
       "      <td>2.0</td>\n",
       "      <td>9.0</td>\n",
       "    </tr>\n",
       "  </tbody>\n",
       "</table>\n",
       "<p>2 rows × 56 columns</p>\n",
       "</div>"
      ],
      "text/plain": [
       "           d_id                                                        \\\n",
       "          count    mean          std    min      25%     50%      75%   \n",
       "fail                                                                    \n",
       "False  200000.0  5200.5  2886.758548  201.0  2700.75  5200.5  7700.25   \n",
       "True     4000.0   100.5    57.741523    1.0    50.75   100.5   150.25   \n",
       "\n",
       "                bb_count              ... xfer_rate         bb_diffs           \\\n",
       "           max     count        mean  ...       75%    max     count     mean   \n",
       "fail                                  ...                                       \n",
       "False  10200.0  200000.0   97.986965  ...      83.0  148.0  200000.0  3.01709   \n",
       "True     200.0    4000.0  122.358000  ...     104.0  145.0    4000.0  1.04475   \n",
       "\n",
       "                                           \n",
       "            std  min  25%  50%  75%   max  \n",
       "fail                                       \n",
       "False  2.466513  0.0  1.0  3.0  4.0  22.0  \n",
       "True   1.390227  0.0  0.0  0.0  2.0   9.0  \n",
       "\n",
       "[2 rows x 56 columns]"
      ]
     },
     "execution_count": 4,
     "metadata": {},
     "output_type": "execute_result"
    }
   ],
   "source": [
    "ts_data.groupby('fail').describe()"
   ]
  },
  {
   "cell_type": "markdown",
   "id": "a5536df0",
   "metadata": {
    "_uuid": "02ea827eedea4afa3baf0a3f4fda52a5a9401537",
    "papermill": {
     "duration": 0.046509,
     "end_time": "2021-11-16T20:45:23.534714",
     "exception": false,
     "start_time": "2021-11-16T20:45:23.488205",
     "status": "completed"
    },
    "tags": []
   },
   "source": [
    "# Plot the time series data"
   ]
  },
  {
   "cell_type": "code",
   "execution_count": 5,
   "id": "ff2a0a28",
   "metadata": {
    "_uuid": "6db76f6678e9c8486f03ee1b3fe8bccff7701a94",
    "execution": {
     "iopub.execute_input": "2021-11-16T20:45:23.691013Z",
     "iopub.status.busy": "2021-11-16T20:45:23.690329Z",
     "iopub.status.idle": "2021-11-16T20:45:24.400427Z",
     "shell.execute_reply": "2021-11-16T20:45:24.400950Z",
     "shell.execute_reply.started": "2021-11-16T19:55:15.023843Z"
    },
    "papermill": {
     "duration": 0.820232,
     "end_time": "2021-11-16T20:45:24.401127",
     "exception": false,
     "start_time": "2021-11-16T20:45:23.580895",
     "status": "completed"
    },
    "tags": []
   },
   "outputs": [
    {
     "data": {
      "text/plain": [
       "<matplotlib.legend.Legend at 0x7fe39159cdd0>"
      ]
     },
     "execution_count": 5,
     "metadata": {},
     "output_type": "execute_result"
    },
    {
     "data": {
      "image/png": "[encoded data removed]",
      "text/plain": [
       "<Figure size 720x864 with 2 Axes>"
      ]
     },
     "metadata": {
      "needs_background": "light"
     },
     "output_type": "display_data"
    }
   ],
   "source": [
    "original_features = ['bb_count', 'r-w_rate', 'reconsects_count',\n",
    "       'recovbydrv_count', 'xfer_rate', 'bb_diffs']\n",
    "\n",
    "fig, axes = plt.subplots(nrows=1, ncols=2)\n",
    "\n",
    "ts_data.loc[ts_data['d_id']==1,original_features].plot(figsize=(10,12), title='drive '+str(1)+' fail', ax=axes[0])\n",
    "\n",
    "num_drives = ts_data['d_id'].unique().shape[0]\n",
    "#num_drives\n",
    "\n",
    "ts_data.loc[ts_data['d_id']==num_drives,original_features].plot(figsize=(10,12), title='drive '+str(num_drives)+' non-fail', ax=axes[1])\n",
    "plt.legend()"
   ]
  },
  {
   "cell_type": "markdown",
   "id": "9a15cb54",
   "metadata": {
    "_uuid": "d6ac44aff601c03c10bc81b052d4b933ae0b01ea",
    "papermill": {
     "duration": 0.049943,
     "end_time": "2021-11-16T20:45:24.501549",
     "exception": false,
     "start_time": "2021-11-16T20:45:24.451606",
     "status": "completed"
    },
    "tags": []
   },
   "source": [
    "# Engineer the time-series features\n",
    "\n",
    "For each Create the aggregated features (mean, median, variance, minimum and naximum):\n",
    "* for each sn\n",
    "* for each feature\n",
    "* for each aggregation type\n",
    "        aggregate the 20 daily samples into one aggregated sample  "
   ]
  },
  {
   "cell_type": "markdown",
   "id": "cc3466f6",
   "metadata": {
    "papermill": {
     "duration": 0.049015,
     "end_time": "2021-11-16T20:45:24.600176",
     "exception": false,
     "start_time": "2021-11-16T20:45:24.551161",
     "status": "completed"
    },
    "tags": []
   },
   "source": [
    "**#Q1**\n",
    "**Data set, grouped by d_id**"
   ]
  },
  {
   "cell_type": "code",
   "execution_count": 6,
   "id": "29b02df8",
   "metadata": {
    "_uuid": "99bc522b76115e59adbf9b68681c15794d8b9b1b",
    "execution": {
     "iopub.execute_input": "2021-11-16T20:45:24.704187Z",
     "iopub.status.busy": "2021-11-16T20:45:24.703164Z",
     "iopub.status.idle": "2021-11-16T20:45:26.691773Z",
     "shell.execute_reply": "2021-11-16T20:45:26.691196Z",
     "shell.execute_reply.started": "2021-11-16T19:55:17.197610Z"
    },
    "papermill": {
     "duration": 2.041349,
     "end_time": "2021-11-16T20:45:26.691936",
     "exception": false,
     "start_time": "2021-11-16T20:45:24.650587",
     "status": "completed"
    },
    "tags": []
   },
   "outputs": [
    {
     "data": {
      "text/html": [
       "<div>\n",
       "<style scoped>\n",
       "    .dataframe tbody tr th:only-of-type {\n",
       "        vertical-align: middle;\n",
       "    }\n",
       "\n",
       "    .dataframe tbody tr th {\n",
       "        vertical-align: top;\n",
       "    }\n",
       "\n",
       "    .dataframe thead th {\n",
       "        text-align: right;\n",
       "    }\n",
       "</style>\n",
       "<table border=\"1\" class=\"dataframe\">\n",
       "  <thead>\n",
       "    <tr style=\"text-align: right;\">\n",
       "      <th></th>\n",
       "      <th></th>\n",
       "      <th>bb_count-medain</th>\n",
       "      <th>r-w_rate-medain</th>\n",
       "      <th>reconsects_count-medain</th>\n",
       "      <th>recovbydrv_count-medain</th>\n",
       "      <th>xfer_rate-medain</th>\n",
       "      <th>bb_diffs-medain</th>\n",
       "      <th>bb_count-mean</th>\n",
       "      <th>r-w_rate-mean</th>\n",
       "      <th>reconsects_count-mean</th>\n",
       "      <th>recovbydrv_count-mean</th>\n",
       "      <th>...</th>\n",
       "      <th>reconsects_count-min</th>\n",
       "      <th>recovbydrv_count-min</th>\n",
       "      <th>xfer_rate-min</th>\n",
       "      <th>bb_diffs-min</th>\n",
       "      <th>bb_count-var</th>\n",
       "      <th>r-w_rate-var</th>\n",
       "      <th>reconsects_count-var</th>\n",
       "      <th>recovbydrv_count-var</th>\n",
       "      <th>xfer_rate-var</th>\n",
       "      <th>bb_diffs-var</th>\n",
       "    </tr>\n",
       "    <tr>\n",
       "      <th>d_id</th>\n",
       "      <th>fail</th>\n",
       "      <th></th>\n",
       "      <th></th>\n",
       "      <th></th>\n",
       "      <th></th>\n",
       "      <th></th>\n",
       "      <th></th>\n",
       "      <th></th>\n",
       "      <th></th>\n",
       "      <th></th>\n",
       "      <th></th>\n",
       "      <th></th>\n",
       "      <th></th>\n",
       "      <th></th>\n",
       "      <th></th>\n",
       "      <th></th>\n",
       "      <th></th>\n",
       "      <th></th>\n",
       "      <th></th>\n",
       "      <th></th>\n",
       "      <th></th>\n",
       "      <th></th>\n",
       "    </tr>\n",
       "  </thead>\n",
       "  <tbody>\n",
       "    <tr>\n",
       "      <th>1</th>\n",
       "      <th>True</th>\n",
       "      <td>75.5</td>\n",
       "      <td>11.0</td>\n",
       "      <td>0.0</td>\n",
       "      <td>91.5</td>\n",
       "      <td>81.5</td>\n",
       "      <td>0.0</td>\n",
       "      <td>75.05</td>\n",
       "      <td>11.30</td>\n",
       "      <td>0.00</td>\n",
       "      <td>96.75</td>\n",
       "      <td>...</td>\n",
       "      <td>0</td>\n",
       "      <td>9</td>\n",
       "      <td>69</td>\n",
       "      <td>0</td>\n",
       "      <td>2307.313158</td>\n",
       "      <td>13.694737</td>\n",
       "      <td>0.000000</td>\n",
       "      <td>3623.250000</td>\n",
       "      <td>63.515789</td>\n",
       "      <td>0.000000</td>\n",
       "    </tr>\n",
       "    <tr>\n",
       "      <th>2</th>\n",
       "      <th>True</th>\n",
       "      <td>97.0</td>\n",
       "      <td>18.0</td>\n",
       "      <td>3.0</td>\n",
       "      <td>124.0</td>\n",
       "      <td>83.5</td>\n",
       "      <td>0.0</td>\n",
       "      <td>102.35</td>\n",
       "      <td>18.80</td>\n",
       "      <td>3.00</td>\n",
       "      <td>121.70</td>\n",
       "      <td>...</td>\n",
       "      <td>3</td>\n",
       "      <td>35</td>\n",
       "      <td>69</td>\n",
       "      <td>0</td>\n",
       "      <td>1794.976316</td>\n",
       "      <td>14.905263</td>\n",
       "      <td>0.000000</td>\n",
       "      <td>3033.168421</td>\n",
       "      <td>51.944737</td>\n",
       "      <td>0.000000</td>\n",
       "    </tr>\n",
       "    <tr>\n",
       "      <th>3</th>\n",
       "      <th>True</th>\n",
       "      <td>152.0</td>\n",
       "      <td>21.5</td>\n",
       "      <td>5.0</td>\n",
       "      <td>170.0</td>\n",
       "      <td>96.5</td>\n",
       "      <td>0.0</td>\n",
       "      <td>153.30</td>\n",
       "      <td>20.00</td>\n",
       "      <td>5.00</td>\n",
       "      <td>166.00</td>\n",
       "      <td>...</td>\n",
       "      <td>5</td>\n",
       "      <td>51</td>\n",
       "      <td>77</td>\n",
       "      <td>0</td>\n",
       "      <td>3903.905263</td>\n",
       "      <td>29.368421</td>\n",
       "      <td>0.000000</td>\n",
       "      <td>5618.736842</td>\n",
       "      <td>72.094737</td>\n",
       "      <td>0.000000</td>\n",
       "    </tr>\n",
       "    <tr>\n",
       "      <th>4</th>\n",
       "      <th>True</th>\n",
       "      <td>99.0</td>\n",
       "      <td>19.5</td>\n",
       "      <td>-2.0</td>\n",
       "      <td>151.5</td>\n",
       "      <td>114.0</td>\n",
       "      <td>0.0</td>\n",
       "      <td>96.05</td>\n",
       "      <td>20.00</td>\n",
       "      <td>-2.00</td>\n",
       "      <td>154.90</td>\n",
       "      <td>...</td>\n",
       "      <td>-2</td>\n",
       "      <td>3</td>\n",
       "      <td>94</td>\n",
       "      <td>0</td>\n",
       "      <td>5173.839474</td>\n",
       "      <td>8.000000</td>\n",
       "      <td>0.000000</td>\n",
       "      <td>10027.042105</td>\n",
       "      <td>112.976316</td>\n",
       "      <td>0.000000</td>\n",
       "    </tr>\n",
       "    <tr>\n",
       "      <th>5</th>\n",
       "      <th>True</th>\n",
       "      <td>146.0</td>\n",
       "      <td>9.5</td>\n",
       "      <td>31.5</td>\n",
       "      <td>145.0</td>\n",
       "      <td>93.0</td>\n",
       "      <td>3.0</td>\n",
       "      <td>140.45</td>\n",
       "      <td>9.55</td>\n",
       "      <td>29.05</td>\n",
       "      <td>149.15</td>\n",
       "      <td>...</td>\n",
       "      <td>6</td>\n",
       "      <td>42</td>\n",
       "      <td>71</td>\n",
       "      <td>0</td>\n",
       "      <td>3759.628947</td>\n",
       "      <td>14.155263</td>\n",
       "      <td>181.734211</td>\n",
       "      <td>4773.186842</td>\n",
       "      <td>83.671053</td>\n",
       "      <td>2.578947</td>\n",
       "    </tr>\n",
       "    <tr>\n",
       "      <th>...</th>\n",
       "      <th>...</th>\n",
       "      <td>...</td>\n",
       "      <td>...</td>\n",
       "      <td>...</td>\n",
       "      <td>...</td>\n",
       "      <td>...</td>\n",
       "      <td>...</td>\n",
       "      <td>...</td>\n",
       "      <td>...</td>\n",
       "      <td>...</td>\n",
       "      <td>...</td>\n",
       "      <td>...</td>\n",
       "      <td>...</td>\n",
       "      <td>...</td>\n",
       "      <td>...</td>\n",
       "      <td>...</td>\n",
       "      <td>...</td>\n",
       "      <td>...</td>\n",
       "      <td>...</td>\n",
       "      <td>...</td>\n",
       "      <td>...</td>\n",
       "      <td>...</td>\n",
       "    </tr>\n",
       "    <tr>\n",
       "      <th>10196</th>\n",
       "      <th>False</th>\n",
       "      <td>115.5</td>\n",
       "      <td>8.0</td>\n",
       "      <td>13.5</td>\n",
       "      <td>146.5</td>\n",
       "      <td>90.5</td>\n",
       "      <td>1.0</td>\n",
       "      <td>110.00</td>\n",
       "      <td>8.55</td>\n",
       "      <td>12.15</td>\n",
       "      <td>146.40</td>\n",
       "      <td>...</td>\n",
       "      <td>6</td>\n",
       "      <td>20</td>\n",
       "      <td>69</td>\n",
       "      <td>0</td>\n",
       "      <td>3385.263158</td>\n",
       "      <td>15.944737</td>\n",
       "      <td>14.765789</td>\n",
       "      <td>6692.884211</td>\n",
       "      <td>107.357895</td>\n",
       "      <td>0.344737</td>\n",
       "    </tr>\n",
       "    <tr>\n",
       "      <th>10197</th>\n",
       "      <th>False</th>\n",
       "      <td>127.0</td>\n",
       "      <td>15.5</td>\n",
       "      <td>53.0</td>\n",
       "      <td>63.5</td>\n",
       "      <td>82.0</td>\n",
       "      <td>5.0</td>\n",
       "      <td>123.40</td>\n",
       "      <td>15.20</td>\n",
       "      <td>53.55</td>\n",
       "      <td>58.55</td>\n",
       "      <td>...</td>\n",
       "      <td>10</td>\n",
       "      <td>28</td>\n",
       "      <td>70</td>\n",
       "      <td>1</td>\n",
       "      <td>3008.252632</td>\n",
       "      <td>25.536842</td>\n",
       "      <td>881.418421</td>\n",
       "      <td>302.681579</td>\n",
       "      <td>69.631579</td>\n",
       "      <td>5.852632</td>\n",
       "    </tr>\n",
       "    <tr>\n",
       "      <th>10198</th>\n",
       "      <th>False</th>\n",
       "      <td>56.5</td>\n",
       "      <td>10.0</td>\n",
       "      <td>32.0</td>\n",
       "      <td>226.0</td>\n",
       "      <td>71.0</td>\n",
       "      <td>2.0</td>\n",
       "      <td>52.95</td>\n",
       "      <td>11.15</td>\n",
       "      <td>31.70</td>\n",
       "      <td>218.70</td>\n",
       "      <td>...</td>\n",
       "      <td>8</td>\n",
       "      <td>41</td>\n",
       "      <td>55</td>\n",
       "      <td>0</td>\n",
       "      <td>259.734211</td>\n",
       "      <td>10.765789</td>\n",
       "      <td>218.852632</td>\n",
       "      <td>11011.273684</td>\n",
       "      <td>113.186842</td>\n",
       "      <td>2.568421</td>\n",
       "    </tr>\n",
       "    <tr>\n",
       "      <th>10199</th>\n",
       "      <th>False</th>\n",
       "      <td>88.0</td>\n",
       "      <td>7.5</td>\n",
       "      <td>50.0</td>\n",
       "      <td>153.5</td>\n",
       "      <td>62.5</td>\n",
       "      <td>4.0</td>\n",
       "      <td>89.50</td>\n",
       "      <td>6.90</td>\n",
       "      <td>50.25</td>\n",
       "      <td>151.80</td>\n",
       "      <td>...</td>\n",
       "      <td>11</td>\n",
       "      <td>38</td>\n",
       "      <td>49</td>\n",
       "      <td>1</td>\n",
       "      <td>1597.631579</td>\n",
       "      <td>9.568421</td>\n",
       "      <td>566.513158</td>\n",
       "      <td>5137.431579</td>\n",
       "      <td>46.252632</td>\n",
       "      <td>3.357895</td>\n",
       "    </tr>\n",
       "    <tr>\n",
       "      <th>10200</th>\n",
       "      <th>False</th>\n",
       "      <td>139.0</td>\n",
       "      <td>10.0</td>\n",
       "      <td>23.5</td>\n",
       "      <td>139.5</td>\n",
       "      <td>83.0</td>\n",
       "      <td>1.0</td>\n",
       "      <td>137.60</td>\n",
       "      <td>9.75</td>\n",
       "      <td>23.10</td>\n",
       "      <td>140.80</td>\n",
       "      <td>...</td>\n",
       "      <td>14</td>\n",
       "      <td>72</td>\n",
       "      <td>73</td>\n",
       "      <td>0</td>\n",
       "      <td>1122.147368</td>\n",
       "      <td>7.355263</td>\n",
       "      <td>39.989474</td>\n",
       "      <td>2042.484211</td>\n",
       "      <td>60.681579</td>\n",
       "      <td>0.831579</td>\n",
       "    </tr>\n",
       "  </tbody>\n",
       "</table>\n",
       "<p>10200 rows × 30 columns</p>\n",
       "</div>"
      ],
      "text/plain": [
       "             bb_count-medain  r-w_rate-medain  reconsects_count-medain  \\\n",
       "d_id  fail                                                               \n",
       "1     True              75.5             11.0                      0.0   \n",
       "2     True              97.0             18.0                      3.0   \n",
       "3     True             152.0             21.5                      5.0   \n",
       "4     True              99.0             19.5                     -2.0   \n",
       "5     True             146.0              9.5                     31.5   \n",
       "...                      ...              ...                      ...   \n",
       "10196 False            115.5              8.0                     13.5   \n",
       "10197 False            127.0             15.5                     53.0   \n",
       "10198 False             56.5             10.0                     32.0   \n",
       "10199 False             88.0              7.5                     50.0   \n",
       "10200 False            139.0             10.0                     23.5   \n",
       "\n",
       "             recovbydrv_count-medain  xfer_rate-medain  bb_diffs-medain  \\\n",
       "d_id  fail                                                                \n",
       "1     True                      91.5              81.5              0.0   \n",
       "2     True                     124.0              83.5              0.0   \n",
       "3     True                     170.0              96.5              0.0   \n",
       "4     True                     151.5             114.0              0.0   \n",
       "5     True                     145.0              93.0              3.0   \n",
       "...                              ...               ...              ...   \n",
       "10196 False                    146.5              90.5              1.0   \n",
       "10197 False                     63.5              82.0              5.0   \n",
       "10198 False                    226.0              71.0              2.0   \n",
       "10199 False                    153.5              62.5              4.0   \n",
       "10200 False                    139.5              83.0              1.0   \n",
       "\n",
       "             bb_count-mean  r-w_rate-mean  reconsects_count-mean  \\\n",
       "d_id  fail                                                         \n",
       "1     True           75.05          11.30                   0.00   \n",
       "2     True          102.35          18.80                   3.00   \n",
       "3     True          153.30          20.00                   5.00   \n",
       "4     True           96.05          20.00                  -2.00   \n",
       "5     True          140.45           9.55                  29.05   \n",
       "...                    ...            ...                    ...   \n",
       "10196 False         110.00           8.55                  12.15   \n",
       "10197 False         123.40          15.20                  53.55   \n",
       "10198 False          52.95          11.15                  31.70   \n",
       "10199 False          89.50           6.90                  50.25   \n",
       "10200 False         137.60           9.75                  23.10   \n",
       "\n",
       "             recovbydrv_count-mean  ...  reconsects_count-min  \\\n",
       "d_id  fail                          ...                         \n",
       "1     True                   96.75  ...                     0   \n",
       "2     True                  121.70  ...                     3   \n",
       "3     True                  166.00  ...                     5   \n",
       "4     True                  154.90  ...                    -2   \n",
       "5     True                  149.15  ...                     6   \n",
       "...                            ...  ...                   ...   \n",
       "10196 False                 146.40  ...                     6   \n",
       "10197 False                  58.55  ...                    10   \n",
       "10198 False                 218.70  ...                     8   \n",
       "10199 False                 151.80  ...                    11   \n",
       "10200 False                 140.80  ...                    14   \n",
       "\n",
       "             recovbydrv_count-min  xfer_rate-min  bb_diffs-min  bb_count-var  \\\n",
       "d_id  fail                                                                     \n",
       "1     True                      9             69             0   2307.313158   \n",
       "2     True                     35             69             0   1794.976316   \n",
       "3     True                     51             77             0   3903.905263   \n",
       "4     True                      3             94             0   5173.839474   \n",
       "5     True                     42             71             0   3759.628947   \n",
       "...                           ...            ...           ...           ...   \n",
       "10196 False                    20             69             0   3385.263158   \n",
       "10197 False                    28             70             1   3008.252632   \n",
       "10198 False                    41             55             0    259.734211   \n",
       "10199 False                    38             49             1   1597.631579   \n",
       "10200 False                    72             73             0   1122.147368   \n",
       "\n",
       "             r-w_rate-var  reconsects_count-var  recovbydrv_count-var  \\\n",
       "d_id  fail                                                              \n",
       "1     True      13.694737              0.000000           3623.250000   \n",
       "2     True      14.905263              0.000000           3033.168421   \n",
       "3     True      29.368421              0.000000           5618.736842   \n",
       "4     True       8.000000              0.000000          10027.042105   \n",
       "5     True      14.155263            181.734211           4773.186842   \n",
       "...                   ...                   ...                   ...   \n",
       "10196 False     15.944737             14.765789           6692.884211   \n",
       "10197 False     25.536842            881.418421            302.681579   \n",
       "10198 False     10.765789            218.852632          11011.273684   \n",
       "10199 False      9.568421            566.513158           5137.431579   \n",
       "10200 False      7.355263             39.989474           2042.484211   \n",
       "\n",
       "             xfer_rate-var  bb_diffs-var  \n",
       "d_id  fail                                \n",
       "1     True       63.515789      0.000000  \n",
       "2     True       51.944737      0.000000  \n",
       "3     True       72.094737      0.000000  \n",
       "4     True      112.976316      0.000000  \n",
       "5     True       83.671053      2.578947  \n",
       "...                    ...           ...  \n",
       "10196 False     107.357895      0.344737  \n",
       "10197 False      69.631579      5.852632  \n",
       "10198 False     113.186842      2.568421  \n",
       "10199 False      46.252632      3.357895  \n",
       "10200 False      60.681579      0.831579  \n",
       "\n",
       "[10200 rows x 30 columns]"
      ]
     },
     "execution_count": 6,
     "metadata": {},
     "output_type": "execute_result"
    }
   ],
   "source": [
    "#Q1\n",
    "mean_ts=ts_data.groupby(['d_id','fail']).mean()\n",
    "median_ts=ts_data.groupby(['d_id','fail']).median()\n",
    "var_ts=ts_data.groupby(['d_id','fail']).var()\n",
    "max_ts=ts_data.groupby(['d_id','fail']).max().drop('time',axis=1)\n",
    "min_ts=ts_data.groupby(['d_id','fail']).min().drop('time',axis=1)\n",
    "\n",
    "\n",
    "mean_median=median_ts.merge(mean_ts, on=['d_id','fail'],suffixes=('-medain','-mean'))\n",
    "mean_median_max=mean_median.merge(max_ts, on=['d_id','fail'],suffixes=('','-max'))\n",
    "mean_median_max_min=mean_median_max.merge(min_ts, on=['d_id','fail'],suffixes=('','-min'))\n",
    "mean_median_max_min_var=mean_median_max_min.merge(var_ts, on=['d_id','fail'],suffixes=('','-var'))\n",
    "\n",
    "mean_median_max_min_var\n",
    "\n"
   ]
  },
  {
   "cell_type": "markdown",
   "id": "edca954e",
   "metadata": {
    "_uuid": "c3b90e4f0ad47da20886ab3dcd385d8e509ab793",
    "papermill": {
     "duration": 0.050473,
     "end_time": "2021-11-16T20:45:26.794134",
     "exception": false,
     "start_time": "2021-11-16T20:45:26.743661",
     "status": "completed"
    },
    "tags": []
   },
   "source": [
    "# Load the cofiguration data"
   ]
  },
  {
   "cell_type": "code",
   "execution_count": 7,
   "id": "ad18940d",
   "metadata": {
    "_uuid": "795daae63f172d2a2b963bbeb0c253be1bed264c",
    "execution": {
     "iopub.execute_input": "2021-11-16T20:45:26.899736Z",
     "iopub.status.busy": "2021-11-16T20:45:26.899108Z",
     "iopub.status.idle": "2021-11-16T20:45:26.919590Z",
     "shell.execute_reply": "2021-11-16T20:45:26.920192Z",
     "shell.execute_reply.started": "2021-11-16T19:55:21.323442Z"
    },
    "papermill": {
     "duration": 0.075424,
     "end_time": "2021-11-16T20:45:26.920369",
     "exception": false,
     "start_time": "2021-11-16T20:45:26.844945",
     "status": "completed"
    },
    "tags": []
   },
   "outputs": [
    {
     "data": {
      "text/html": [
       "<div>\n",
       "<style scoped>\n",
       "    .dataframe tbody tr th:only-of-type {\n",
       "        vertical-align: middle;\n",
       "    }\n",
       "\n",
       "    .dataframe tbody tr th {\n",
       "        vertical-align: top;\n",
       "    }\n",
       "\n",
       "    .dataframe thead th {\n",
       "        text-align: right;\n",
       "    }\n",
       "</style>\n",
       "<table border=\"1\" class=\"dataframe\">\n",
       "  <thead>\n",
       "    <tr style=\"text-align: right;\">\n",
       "      <th></th>\n",
       "      <th>d_id</th>\n",
       "      <th>age</th>\n",
       "      <th>capacity</th>\n",
       "      <th>model</th>\n",
       "      <th>fail</th>\n",
       "    </tr>\n",
       "  </thead>\n",
       "  <tbody>\n",
       "    <tr>\n",
       "      <th>0</th>\n",
       "      <td>1</td>\n",
       "      <td>15</td>\n",
       "      <td>1TB</td>\n",
       "      <td>Hitachi</td>\n",
       "      <td>True</td>\n",
       "    </tr>\n",
       "    <tr>\n",
       "      <th>1</th>\n",
       "      <td>2</td>\n",
       "      <td>23</td>\n",
       "      <td>1TB</td>\n",
       "      <td>Fujitsu</td>\n",
       "      <td>True</td>\n",
       "    </tr>\n",
       "    <tr>\n",
       "      <th>2</th>\n",
       "      <td>3</td>\n",
       "      <td>23</td>\n",
       "      <td>1TB</td>\n",
       "      <td>Seagate</td>\n",
       "      <td>True</td>\n",
       "    </tr>\n",
       "    <tr>\n",
       "      <th>3</th>\n",
       "      <td>4</td>\n",
       "      <td>14</td>\n",
       "      <td>1TB</td>\n",
       "      <td>Hitachi</td>\n",
       "      <td>True</td>\n",
       "    </tr>\n",
       "    <tr>\n",
       "      <th>4</th>\n",
       "      <td>5</td>\n",
       "      <td>18</td>\n",
       "      <td>600GB</td>\n",
       "      <td>Hitachi</td>\n",
       "      <td>True</td>\n",
       "    </tr>\n",
       "    <tr>\n",
       "      <th>...</th>\n",
       "      <td>...</td>\n",
       "      <td>...</td>\n",
       "      <td>...</td>\n",
       "      <td>...</td>\n",
       "      <td>...</td>\n",
       "    </tr>\n",
       "    <tr>\n",
       "      <th>10195</th>\n",
       "      <td>10196</td>\n",
       "      <td>16</td>\n",
       "      <td>1TB</td>\n",
       "      <td>Seagate</td>\n",
       "      <td>False</td>\n",
       "    </tr>\n",
       "    <tr>\n",
       "      <th>10196</th>\n",
       "      <td>10197</td>\n",
       "      <td>25</td>\n",
       "      <td>600GB</td>\n",
       "      <td>Hitachi</td>\n",
       "      <td>False</td>\n",
       "    </tr>\n",
       "    <tr>\n",
       "      <th>10197</th>\n",
       "      <td>10198</td>\n",
       "      <td>23</td>\n",
       "      <td>300GB</td>\n",
       "      <td>Hitachi</td>\n",
       "      <td>False</td>\n",
       "    </tr>\n",
       "    <tr>\n",
       "      <th>10198</th>\n",
       "      <td>10199</td>\n",
       "      <td>13</td>\n",
       "      <td>600GB</td>\n",
       "      <td>Seagate</td>\n",
       "      <td>False</td>\n",
       "    </tr>\n",
       "    <tr>\n",
       "      <th>10199</th>\n",
       "      <td>10200</td>\n",
       "      <td>21</td>\n",
       "      <td>300GB</td>\n",
       "      <td>Fujitsu</td>\n",
       "      <td>False</td>\n",
       "    </tr>\n",
       "  </tbody>\n",
       "</table>\n",
       "<p>10200 rows × 5 columns</p>\n",
       "</div>"
      ],
      "text/plain": [
       "        d_id  age capacity    model   fail\n",
       "0          1   15      1TB  Hitachi   True\n",
       "1          2   23      1TB  Fujitsu   True\n",
       "2          3   23      1TB  Seagate   True\n",
       "3          4   14      1TB  Hitachi   True\n",
       "4          5   18    600GB  Hitachi   True\n",
       "...      ...  ...      ...      ...    ...\n",
       "10195  10196   16      1TB  Seagate  False\n",
       "10196  10197   25    600GB  Hitachi  False\n",
       "10197  10198   23    300GB  Hitachi  False\n",
       "10198  10199   13    600GB  Seagate  False\n",
       "10199  10200   21    300GB  Fujitsu  False\n",
       "\n",
       "[10200 rows x 5 columns]"
      ]
     },
     "execution_count": 7,
     "metadata": {},
     "output_type": "execute_result"
    }
   ],
   "source": [
    "conf_file_path = get_file_path('conf_data.csv')\n",
    "conf_data = pd.read_csv(conf_file_path)\n",
    "conf_data"
   ]
  },
  {
   "cell_type": "markdown",
   "id": "f8627860",
   "metadata": {
    "_uuid": "7805af276468a338e4d8140156f52e0395ef0684",
    "papermill": {
     "duration": 0.055426,
     "end_time": "2021-11-16T20:45:27.027290",
     "exception": false,
     "start_time": "2021-11-16T20:45:26.971864",
     "status": "completed"
    },
    "tags": []
   },
   "source": [
    "# Look at the features\\labels distribution"
   ]
  },
  {
   "cell_type": "code",
   "execution_count": 8,
   "id": "143f80de",
   "metadata": {
    "_uuid": "cca715a8f29c537583ceaec866c88840b7f1ea5a",
    "execution": {
     "iopub.execute_input": "2021-11-16T20:45:27.134641Z",
     "iopub.status.busy": "2021-11-16T20:45:27.133918Z",
     "iopub.status.idle": "2021-11-16T20:45:27.382941Z",
     "shell.execute_reply": "2021-11-16T20:45:27.383482Z",
     "shell.execute_reply.started": "2021-11-16T19:55:23.310373Z"
    },
    "papermill": {
     "duration": 0.303947,
     "end_time": "2021-11-16T20:45:27.383659",
     "exception": false,
     "start_time": "2021-11-16T20:45:27.079712",
     "status": "completed"
    },
    "tags": []
   },
   "outputs": [
    {
     "data": {
      "text/plain": [
       "<AxesSubplot:title={'center':'age'}, xlabel='[fail]'>"
      ]
     },
     "execution_count": 8,
     "metadata": {},
     "output_type": "execute_result"
    },
    {
     "data": {
      "text/plain": [
       "<Figure size 432x288 with 0 Axes>"
      ]
     },
     "metadata": {},
     "output_type": "display_data"
    },
    {
     "data": {
      "image/png": "[encoded data removed]",
      "text/plain": [
       "<Figure size 720x864 with 1 Axes>"
      ]
     },
     "metadata": {
      "needs_background": "light"
     },
     "output_type": "display_data"
    }
   ],
   "source": [
    "plt.figure()\n",
    "conf_data[['age', 'fail']].boxplot(by='fail', figsize=(10,12), sym='')"
   ]
  },
  {
   "cell_type": "code",
   "execution_count": 9,
   "id": "f6a3ffd2",
   "metadata": {
    "_uuid": "802b2e65d849b67a159e22243c5cee84b498def9",
    "execution": {
     "iopub.execute_input": "2021-11-16T20:45:27.493414Z",
     "iopub.status.busy": "2021-11-16T20:45:27.492698Z",
     "iopub.status.idle": "2021-11-16T20:45:27.754586Z",
     "shell.execute_reply": "2021-11-16T20:45:27.755183Z",
     "shell.execute_reply.started": "2021-11-16T19:55:25.559156Z"
    },
    "papermill": {
     "duration": 0.318188,
     "end_time": "2021-11-16T20:45:27.755355",
     "exception": false,
     "start_time": "2021-11-16T20:45:27.437167",
     "status": "completed"
    },
    "tags": []
   },
   "outputs": [
    {
     "data": {
      "text/plain": [
       "<AxesSubplot:xlabel='model'>"
      ]
     },
     "execution_count": 9,
     "metadata": {},
     "output_type": "execute_result"
    },
    {
     "data": {
      "image/png": "[encoded data removed]",
      "text/plain": [
       "<Figure size 432x288 with 1 Axes>"
      ]
     },
     "metadata": {
      "needs_background": "light"
     },
     "output_type": "display_data"
    }
   ],
   "source": [
    "g = conf_data.groupby([\"model\", \"fail\"])['d_id'].count().unstack('fail')\n",
    "g.plot(kind=\"bar\", stacked=True, grid=True, alpha=0.75, rot=45)"
   ]
  },
  {
   "cell_type": "markdown",
   "id": "2158eea7",
   "metadata": {
    "_uuid": "bf96f72001126666e302413824fbe8bfdf2a85e4",
    "papermill": {
     "duration": 0.054795,
     "end_time": "2021-11-16T20:45:27.864118",
     "exception": false,
     "start_time": "2021-11-16T20:45:27.809323",
     "status": "completed"
    },
    "tags": []
   },
   "source": [
    "# Handle categorical data "
   ]
  },
  {
   "cell_type": "markdown",
   "id": "443ce047",
   "metadata": {
    "_uuid": "eaa66b3f716b8677d975c610509547016dc9fa59",
    "papermill": {
     "duration": 0.054207,
     "end_time": "2021-11-16T20:45:27.973498",
     "exception": false,
     "start_time": "2021-11-16T20:45:27.919291",
     "status": "completed"
    },
    "tags": []
   },
   "source": [
    "For the decision tree algorithm, map the categorical features to numeric with:\n",
    "* \"Change_capacity\" function for \"capacity\" column\n",
    "* \"pd.get_dummies\" function for \"model\" column\n"
   ]
  },
  {
   "cell_type": "code",
   "execution_count": 10,
   "id": "2c7778bc",
   "metadata": {
    "_uuid": "16182b67a2ddce9b865ed141a17f3cec01e6995a",
    "execution": {
     "iopub.execute_input": "2021-11-16T20:45:28.089197Z",
     "iopub.status.busy": "2021-11-16T20:45:28.088525Z",
     "iopub.status.idle": "2021-11-16T20:45:28.090784Z",
     "shell.execute_reply": "2021-11-16T20:45:28.091291Z",
     "shell.execute_reply.started": "2021-11-16T19:55:33.976189Z"
    },
    "papermill": {
     "duration": 0.063667,
     "end_time": "2021-11-16T20:45:28.091485",
     "exception": false,
     "start_time": "2021-11-16T20:45:28.027818",
     "status": "completed"
    },
    "tags": []
   },
   "outputs": [],
   "source": [
    "#Q2\n",
    "def change_capacity(data):\n",
    "    # A function that receives a data frame and a column name as input and map the categorical capacity feature to numeric \n",
    "    di = dict(zip(conf_data[\"capacity\"].unique(), [1000, 600, 300]))\n",
    "\n",
    "    return data.replace({\"capacity\": di}, inplace=False)\n"
   ]
  },
  {
   "cell_type": "code",
   "execution_count": 11,
   "id": "b6ace8fa",
   "metadata": {
    "_uuid": "17834a9692c6ab0a619730d90a58a99c4d23953e",
    "execution": {
     "iopub.execute_input": "2021-11-16T20:45:28.206556Z",
     "iopub.status.busy": "2021-11-16T20:45:28.203483Z",
     "iopub.status.idle": "2021-11-16T20:45:28.232655Z",
     "shell.execute_reply": "2021-11-16T20:45:28.233143Z",
     "shell.execute_reply.started": "2021-11-16T19:55:35.563249Z"
    },
    "papermill": {
     "duration": 0.087244,
     "end_time": "2021-11-16T20:45:28.233320",
     "exception": false,
     "start_time": "2021-11-16T20:45:28.146076",
     "status": "completed"
    },
    "tags": []
   },
   "outputs": [
    {
     "data": {
      "text/html": [
       "<div>\n",
       "<style scoped>\n",
       "    .dataframe tbody tr th:only-of-type {\n",
       "        vertical-align: middle;\n",
       "    }\n",
       "\n",
       "    .dataframe tbody tr th {\n",
       "        vertical-align: top;\n",
       "    }\n",
       "\n",
       "    .dataframe thead th {\n",
       "        text-align: right;\n",
       "    }\n",
       "</style>\n",
       "<table border=\"1\" class=\"dataframe\">\n",
       "  <thead>\n",
       "    <tr style=\"text-align: right;\">\n",
       "      <th></th>\n",
       "      <th>d_id</th>\n",
       "      <th>age</th>\n",
       "      <th>capacity</th>\n",
       "      <th>fail</th>\n",
       "      <th>model_Fujitsu</th>\n",
       "      <th>model_Hitachi</th>\n",
       "      <th>model_Seagate</th>\n",
       "      <th>model_Toshiba</th>\n",
       "    </tr>\n",
       "  </thead>\n",
       "  <tbody>\n",
       "    <tr>\n",
       "      <th>0</th>\n",
       "      <td>1</td>\n",
       "      <td>15</td>\n",
       "      <td>1000</td>\n",
       "      <td>True</td>\n",
       "      <td>0</td>\n",
       "      <td>1</td>\n",
       "      <td>0</td>\n",
       "      <td>0</td>\n",
       "    </tr>\n",
       "    <tr>\n",
       "      <th>1</th>\n",
       "      <td>2</td>\n",
       "      <td>23</td>\n",
       "      <td>1000</td>\n",
       "      <td>True</td>\n",
       "      <td>1</td>\n",
       "      <td>0</td>\n",
       "      <td>0</td>\n",
       "      <td>0</td>\n",
       "    </tr>\n",
       "    <tr>\n",
       "      <th>2</th>\n",
       "      <td>3</td>\n",
       "      <td>23</td>\n",
       "      <td>1000</td>\n",
       "      <td>True</td>\n",
       "      <td>0</td>\n",
       "      <td>0</td>\n",
       "      <td>1</td>\n",
       "      <td>0</td>\n",
       "    </tr>\n",
       "    <tr>\n",
       "      <th>3</th>\n",
       "      <td>4</td>\n",
       "      <td>14</td>\n",
       "      <td>1000</td>\n",
       "      <td>True</td>\n",
       "      <td>0</td>\n",
       "      <td>1</td>\n",
       "      <td>0</td>\n",
       "      <td>0</td>\n",
       "    </tr>\n",
       "    <tr>\n",
       "      <th>4</th>\n",
       "      <td>5</td>\n",
       "      <td>18</td>\n",
       "      <td>600</td>\n",
       "      <td>True</td>\n",
       "      <td>0</td>\n",
       "      <td>1</td>\n",
       "      <td>0</td>\n",
       "      <td>0</td>\n",
       "    </tr>\n",
       "    <tr>\n",
       "      <th>...</th>\n",
       "      <td>...</td>\n",
       "      <td>...</td>\n",
       "      <td>...</td>\n",
       "      <td>...</td>\n",
       "      <td>...</td>\n",
       "      <td>...</td>\n",
       "      <td>...</td>\n",
       "      <td>...</td>\n",
       "    </tr>\n",
       "    <tr>\n",
       "      <th>10195</th>\n",
       "      <td>10196</td>\n",
       "      <td>16</td>\n",
       "      <td>1000</td>\n",
       "      <td>False</td>\n",
       "      <td>0</td>\n",
       "      <td>0</td>\n",
       "      <td>1</td>\n",
       "      <td>0</td>\n",
       "    </tr>\n",
       "    <tr>\n",
       "      <th>10196</th>\n",
       "      <td>10197</td>\n",
       "      <td>25</td>\n",
       "      <td>600</td>\n",
       "      <td>False</td>\n",
       "      <td>0</td>\n",
       "      <td>1</td>\n",
       "      <td>0</td>\n",
       "      <td>0</td>\n",
       "    </tr>\n",
       "    <tr>\n",
       "      <th>10197</th>\n",
       "      <td>10198</td>\n",
       "      <td>23</td>\n",
       "      <td>300</td>\n",
       "      <td>False</td>\n",
       "      <td>0</td>\n",
       "      <td>1</td>\n",
       "      <td>0</td>\n",
       "      <td>0</td>\n",
       "    </tr>\n",
       "    <tr>\n",
       "      <th>10198</th>\n",
       "      <td>10199</td>\n",
       "      <td>13</td>\n",
       "      <td>600</td>\n",
       "      <td>False</td>\n",
       "      <td>0</td>\n",
       "      <td>0</td>\n",
       "      <td>1</td>\n",
       "      <td>0</td>\n",
       "    </tr>\n",
       "    <tr>\n",
       "      <th>10199</th>\n",
       "      <td>10200</td>\n",
       "      <td>21</td>\n",
       "      <td>300</td>\n",
       "      <td>False</td>\n",
       "      <td>1</td>\n",
       "      <td>0</td>\n",
       "      <td>0</td>\n",
       "      <td>0</td>\n",
       "    </tr>\n",
       "  </tbody>\n",
       "</table>\n",
       "<p>10200 rows × 8 columns</p>\n",
       "</div>"
      ],
      "text/plain": [
       "        d_id  age  capacity   fail  model_Fujitsu  model_Hitachi  \\\n",
       "0          1   15      1000   True              0              1   \n",
       "1          2   23      1000   True              1              0   \n",
       "2          3   23      1000   True              0              0   \n",
       "3          4   14      1000   True              0              1   \n",
       "4          5   18       600   True              0              1   \n",
       "...      ...  ...       ...    ...            ...            ...   \n",
       "10195  10196   16      1000  False              0              0   \n",
       "10196  10197   25       600  False              0              1   \n",
       "10197  10198   23       300  False              0              1   \n",
       "10198  10199   13       600  False              0              0   \n",
       "10199  10200   21       300  False              1              0   \n",
       "\n",
       "       model_Seagate  model_Toshiba  \n",
       "0                  0              0  \n",
       "1                  0              0  \n",
       "2                  1              0  \n",
       "3                  0              0  \n",
       "4                  0              0  \n",
       "...              ...            ...  \n",
       "10195              1              0  \n",
       "10196              0              0  \n",
       "10197              0              0  \n",
       "10198              1              0  \n",
       "10199              0              0  \n",
       "\n",
       "[10200 rows x 8 columns]"
      ]
     },
     "execution_count": 11,
     "metadata": {},
     "output_type": "execute_result"
    }
   ],
   "source": [
    "new_conf_data = change_capacity(conf_data)\n",
    "new_conf_data=pd.get_dummies(new_conf_data,columns=['model'])\n",
    "new_conf_data"
   ]
  },
  {
   "cell_type": "markdown",
   "id": "428dc788",
   "metadata": {
    "_uuid": "f810629084c501953dcc89013acd6becc0b03527",
    "papermill": {
     "duration": 0.05404,
     "end_time": "2021-11-16T20:45:28.341908",
     "exception": false,
     "start_time": "2021-11-16T20:45:28.287868",
     "status": "completed"
    },
    "tags": []
   },
   "source": [
    "# Merge the aggregated time-series and the configuration datasets"
   ]
  },
  {
   "cell_type": "code",
   "execution_count": 12,
   "id": "98efc63c",
   "metadata": {
    "_uuid": "a7f25a095cc490b5390df499b934a517d61f0322",
    "execution": {
     "iopub.execute_input": "2021-11-16T20:45:28.455003Z",
     "iopub.status.busy": "2021-11-16T20:45:28.454298Z",
     "iopub.status.idle": "2021-11-16T20:45:28.494555Z",
     "shell.execute_reply": "2021-11-16T20:45:28.495048Z",
     "shell.execute_reply.started": "2021-11-16T19:55:38.500481Z"
    },
    "papermill": {
     "duration": 0.098757,
     "end_time": "2021-11-16T20:45:28.495215",
     "exception": false,
     "start_time": "2021-11-16T20:45:28.396458",
     "status": "completed"
    },
    "tags": []
   },
   "outputs": [
    {
     "data": {
      "text/html": [
       "<div>\n",
       "<style scoped>\n",
       "    .dataframe tbody tr th:only-of-type {\n",
       "        vertical-align: middle;\n",
       "    }\n",
       "\n",
       "    .dataframe tbody tr th {\n",
       "        vertical-align: top;\n",
       "    }\n",
       "\n",
       "    .dataframe thead th {\n",
       "        text-align: right;\n",
       "    }\n",
       "</style>\n",
       "<table border=\"1\" class=\"dataframe\">\n",
       "  <thead>\n",
       "    <tr style=\"text-align: right;\">\n",
       "      <th></th>\n",
       "      <th>age</th>\n",
       "      <th>capacity</th>\n",
       "      <th>model_Fujitsu</th>\n",
       "      <th>model_Hitachi</th>\n",
       "      <th>model_Seagate</th>\n",
       "      <th>model_Toshiba</th>\n",
       "      <th>bb_count-medain</th>\n",
       "      <th>r-w_rate-medain</th>\n",
       "      <th>reconsects_count-medain</th>\n",
       "      <th>recovbydrv_count-medain</th>\n",
       "      <th>...</th>\n",
       "      <th>reconsects_count-min</th>\n",
       "      <th>recovbydrv_count-min</th>\n",
       "      <th>xfer_rate-min</th>\n",
       "      <th>bb_diffs-min</th>\n",
       "      <th>bb_count-var</th>\n",
       "      <th>r-w_rate-var</th>\n",
       "      <th>reconsects_count-var</th>\n",
       "      <th>recovbydrv_count-var</th>\n",
       "      <th>xfer_rate-var</th>\n",
       "      <th>bb_diffs-var</th>\n",
       "    </tr>\n",
       "  </thead>\n",
       "  <tbody>\n",
       "    <tr>\n",
       "      <th>0</th>\n",
       "      <td>15</td>\n",
       "      <td>1000</td>\n",
       "      <td>0</td>\n",
       "      <td>1</td>\n",
       "      <td>0</td>\n",
       "      <td>0</td>\n",
       "      <td>75.5</td>\n",
       "      <td>11.0</td>\n",
       "      <td>0.0</td>\n",
       "      <td>91.5</td>\n",
       "      <td>...</td>\n",
       "      <td>0</td>\n",
       "      <td>9</td>\n",
       "      <td>69</td>\n",
       "      <td>0</td>\n",
       "      <td>2307.313158</td>\n",
       "      <td>13.694737</td>\n",
       "      <td>0.000000</td>\n",
       "      <td>3623.250000</td>\n",
       "      <td>63.515789</td>\n",
       "      <td>0.000000</td>\n",
       "    </tr>\n",
       "    <tr>\n",
       "      <th>1</th>\n",
       "      <td>23</td>\n",
       "      <td>1000</td>\n",
       "      <td>1</td>\n",
       "      <td>0</td>\n",
       "      <td>0</td>\n",
       "      <td>0</td>\n",
       "      <td>97.0</td>\n",
       "      <td>18.0</td>\n",
       "      <td>3.0</td>\n",
       "      <td>124.0</td>\n",
       "      <td>...</td>\n",
       "      <td>3</td>\n",
       "      <td>35</td>\n",
       "      <td>69</td>\n",
       "      <td>0</td>\n",
       "      <td>1794.976316</td>\n",
       "      <td>14.905263</td>\n",
       "      <td>0.000000</td>\n",
       "      <td>3033.168421</td>\n",
       "      <td>51.944737</td>\n",
       "      <td>0.000000</td>\n",
       "    </tr>\n",
       "    <tr>\n",
       "      <th>2</th>\n",
       "      <td>23</td>\n",
       "      <td>1000</td>\n",
       "      <td>0</td>\n",
       "      <td>0</td>\n",
       "      <td>1</td>\n",
       "      <td>0</td>\n",
       "      <td>152.0</td>\n",
       "      <td>21.5</td>\n",
       "      <td>5.0</td>\n",
       "      <td>170.0</td>\n",
       "      <td>...</td>\n",
       "      <td>5</td>\n",
       "      <td>51</td>\n",
       "      <td>77</td>\n",
       "      <td>0</td>\n",
       "      <td>3903.905263</td>\n",
       "      <td>29.368421</td>\n",
       "      <td>0.000000</td>\n",
       "      <td>5618.736842</td>\n",
       "      <td>72.094737</td>\n",
       "      <td>0.000000</td>\n",
       "    </tr>\n",
       "    <tr>\n",
       "      <th>3</th>\n",
       "      <td>14</td>\n",
       "      <td>1000</td>\n",
       "      <td>0</td>\n",
       "      <td>1</td>\n",
       "      <td>0</td>\n",
       "      <td>0</td>\n",
       "      <td>99.0</td>\n",
       "      <td>19.5</td>\n",
       "      <td>-2.0</td>\n",
       "      <td>151.5</td>\n",
       "      <td>...</td>\n",
       "      <td>-2</td>\n",
       "      <td>3</td>\n",
       "      <td>94</td>\n",
       "      <td>0</td>\n",
       "      <td>5173.839474</td>\n",
       "      <td>8.000000</td>\n",
       "      <td>0.000000</td>\n",
       "      <td>10027.042105</td>\n",
       "      <td>112.976316</td>\n",
       "      <td>0.000000</td>\n",
       "    </tr>\n",
       "    <tr>\n",
       "      <th>4</th>\n",
       "      <td>18</td>\n",
       "      <td>600</td>\n",
       "      <td>0</td>\n",
       "      <td>1</td>\n",
       "      <td>0</td>\n",
       "      <td>0</td>\n",
       "      <td>146.0</td>\n",
       "      <td>9.5</td>\n",
       "      <td>31.5</td>\n",
       "      <td>145.0</td>\n",
       "      <td>...</td>\n",
       "      <td>6</td>\n",
       "      <td>42</td>\n",
       "      <td>71</td>\n",
       "      <td>0</td>\n",
       "      <td>3759.628947</td>\n",
       "      <td>14.155263</td>\n",
       "      <td>181.734211</td>\n",
       "      <td>4773.186842</td>\n",
       "      <td>83.671053</td>\n",
       "      <td>2.578947</td>\n",
       "    </tr>\n",
       "    <tr>\n",
       "      <th>...</th>\n",
       "      <td>...</td>\n",
       "      <td>...</td>\n",
       "      <td>...</td>\n",
       "      <td>...</td>\n",
       "      <td>...</td>\n",
       "      <td>...</td>\n",
       "      <td>...</td>\n",
       "      <td>...</td>\n",
       "      <td>...</td>\n",
       "      <td>...</td>\n",
       "      <td>...</td>\n",
       "      <td>...</td>\n",
       "      <td>...</td>\n",
       "      <td>...</td>\n",
       "      <td>...</td>\n",
       "      <td>...</td>\n",
       "      <td>...</td>\n",
       "      <td>...</td>\n",
       "      <td>...</td>\n",
       "      <td>...</td>\n",
       "      <td>...</td>\n",
       "    </tr>\n",
       "    <tr>\n",
       "      <th>10195</th>\n",
       "      <td>16</td>\n",
       "      <td>1000</td>\n",
       "      <td>0</td>\n",
       "      <td>0</td>\n",
       "      <td>1</td>\n",
       "      <td>0</td>\n",
       "      <td>115.5</td>\n",
       "      <td>8.0</td>\n",
       "      <td>13.5</td>\n",
       "      <td>146.5</td>\n",
       "      <td>...</td>\n",
       "      <td>6</td>\n",
       "      <td>20</td>\n",
       "      <td>69</td>\n",
       "      <td>0</td>\n",
       "      <td>3385.263158</td>\n",
       "      <td>15.944737</td>\n",
       "      <td>14.765789</td>\n",
       "      <td>6692.884211</td>\n",
       "      <td>107.357895</td>\n",
       "      <td>0.344737</td>\n",
       "    </tr>\n",
       "    <tr>\n",
       "      <th>10196</th>\n",
       "      <td>25</td>\n",
       "      <td>600</td>\n",
       "      <td>0</td>\n",
       "      <td>1</td>\n",
       "      <td>0</td>\n",
       "      <td>0</td>\n",
       "      <td>127.0</td>\n",
       "      <td>15.5</td>\n",
       "      <td>53.0</td>\n",
       "      <td>63.5</td>\n",
       "      <td>...</td>\n",
       "      <td>10</td>\n",
       "      <td>28</td>\n",
       "      <td>70</td>\n",
       "      <td>1</td>\n",
       "      <td>3008.252632</td>\n",
       "      <td>25.536842</td>\n",
       "      <td>881.418421</td>\n",
       "      <td>302.681579</td>\n",
       "      <td>69.631579</td>\n",
       "      <td>5.852632</td>\n",
       "    </tr>\n",
       "    <tr>\n",
       "      <th>10197</th>\n",
       "      <td>23</td>\n",
       "      <td>300</td>\n",
       "      <td>0</td>\n",
       "      <td>1</td>\n",
       "      <td>0</td>\n",
       "      <td>0</td>\n",
       "      <td>56.5</td>\n",
       "      <td>10.0</td>\n",
       "      <td>32.0</td>\n",
       "      <td>226.0</td>\n",
       "      <td>...</td>\n",
       "      <td>8</td>\n",
       "      <td>41</td>\n",
       "      <td>55</td>\n",
       "      <td>0</td>\n",
       "      <td>259.734211</td>\n",
       "      <td>10.765789</td>\n",
       "      <td>218.852632</td>\n",
       "      <td>11011.273684</td>\n",
       "      <td>113.186842</td>\n",
       "      <td>2.568421</td>\n",
       "    </tr>\n",
       "    <tr>\n",
       "      <th>10198</th>\n",
       "      <td>13</td>\n",
       "      <td>600</td>\n",
       "      <td>0</td>\n",
       "      <td>0</td>\n",
       "      <td>1</td>\n",
       "      <td>0</td>\n",
       "      <td>88.0</td>\n",
       "      <td>7.5</td>\n",
       "      <td>50.0</td>\n",
       "      <td>153.5</td>\n",
       "      <td>...</td>\n",
       "      <td>11</td>\n",
       "      <td>38</td>\n",
       "      <td>49</td>\n",
       "      <td>1</td>\n",
       "      <td>1597.631579</td>\n",
       "      <td>9.568421</td>\n",
       "      <td>566.513158</td>\n",
       "      <td>5137.431579</td>\n",
       "      <td>46.252632</td>\n",
       "      <td>3.357895</td>\n",
       "    </tr>\n",
       "    <tr>\n",
       "      <th>10199</th>\n",
       "      <td>21</td>\n",
       "      <td>300</td>\n",
       "      <td>1</td>\n",
       "      <td>0</td>\n",
       "      <td>0</td>\n",
       "      <td>0</td>\n",
       "      <td>139.0</td>\n",
       "      <td>10.0</td>\n",
       "      <td>23.5</td>\n",
       "      <td>139.5</td>\n",
       "      <td>...</td>\n",
       "      <td>14</td>\n",
       "      <td>72</td>\n",
       "      <td>73</td>\n",
       "      <td>0</td>\n",
       "      <td>1122.147368</td>\n",
       "      <td>7.355263</td>\n",
       "      <td>39.989474</td>\n",
       "      <td>2042.484211</td>\n",
       "      <td>60.681579</td>\n",
       "      <td>0.831579</td>\n",
       "    </tr>\n",
       "  </tbody>\n",
       "</table>\n",
       "<p>10200 rows × 36 columns</p>\n",
       "</div>"
      ],
      "text/plain": [
       "       age  capacity  model_Fujitsu  model_Hitachi  model_Seagate  \\\n",
       "0       15      1000              0              1              0   \n",
       "1       23      1000              1              0              0   \n",
       "2       23      1000              0              0              1   \n",
       "3       14      1000              0              1              0   \n",
       "4       18       600              0              1              0   \n",
       "...    ...       ...            ...            ...            ...   \n",
       "10195   16      1000              0              0              1   \n",
       "10196   25       600              0              1              0   \n",
       "10197   23       300              0              1              0   \n",
       "10198   13       600              0              0              1   \n",
       "10199   21       300              1              0              0   \n",
       "\n",
       "       model_Toshiba  bb_count-medain  r-w_rate-medain  \\\n",
       "0                  0             75.5             11.0   \n",
       "1                  0             97.0             18.0   \n",
       "2                  0            152.0             21.5   \n",
       "3                  0             99.0             19.5   \n",
       "4                  0            146.0              9.5   \n",
       "...              ...              ...              ...   \n",
       "10195              0            115.5              8.0   \n",
       "10196              0            127.0             15.5   \n",
       "10197              0             56.5             10.0   \n",
       "10198              0             88.0              7.5   \n",
       "10199              0            139.0             10.0   \n",
       "\n",
       "       reconsects_count-medain  recovbydrv_count-medain  ...  \\\n",
       "0                          0.0                     91.5  ...   \n",
       "1                          3.0                    124.0  ...   \n",
       "2                          5.0                    170.0  ...   \n",
       "3                         -2.0                    151.5  ...   \n",
       "4                         31.5                    145.0  ...   \n",
       "...                        ...                      ...  ...   \n",
       "10195                     13.5                    146.5  ...   \n",
       "10196                     53.0                     63.5  ...   \n",
       "10197                     32.0                    226.0  ...   \n",
       "10198                     50.0                    153.5  ...   \n",
       "10199                     23.5                    139.5  ...   \n",
       "\n",
       "       reconsects_count-min  recovbydrv_count-min  xfer_rate-min  \\\n",
       "0                         0                     9             69   \n",
       "1                         3                    35             69   \n",
       "2                         5                    51             77   \n",
       "3                        -2                     3             94   \n",
       "4                         6                    42             71   \n",
       "...                     ...                   ...            ...   \n",
       "10195                     6                    20             69   \n",
       "10196                    10                    28             70   \n",
       "10197                     8                    41             55   \n",
       "10198                    11                    38             49   \n",
       "10199                    14                    72             73   \n",
       "\n",
       "       bb_diffs-min  bb_count-var  r-w_rate-var  reconsects_count-var  \\\n",
       "0                 0   2307.313158     13.694737              0.000000   \n",
       "1                 0   1794.976316     14.905263              0.000000   \n",
       "2                 0   3903.905263     29.368421              0.000000   \n",
       "3                 0   5173.839474      8.000000              0.000000   \n",
       "4                 0   3759.628947     14.155263            181.734211   \n",
       "...             ...           ...           ...                   ...   \n",
       "10195             0   3385.263158     15.944737             14.765789   \n",
       "10196             1   3008.252632     25.536842            881.418421   \n",
       "10197             0    259.734211     10.765789            218.852632   \n",
       "10198             1   1597.631579      9.568421            566.513158   \n",
       "10199             0   1122.147368      7.355263             39.989474   \n",
       "\n",
       "       recovbydrv_count-var  xfer_rate-var  bb_diffs-var  \n",
       "0               3623.250000      63.515789      0.000000  \n",
       "1               3033.168421      51.944737      0.000000  \n",
       "2               5618.736842      72.094737      0.000000  \n",
       "3              10027.042105     112.976316      0.000000  \n",
       "4               4773.186842      83.671053      2.578947  \n",
       "...                     ...            ...           ...  \n",
       "10195           6692.884211     107.357895      0.344737  \n",
       "10196            302.681579      69.631579      5.852632  \n",
       "10197          11011.273684     113.186842      2.568421  \n",
       "10198           5137.431579      46.252632      3.357895  \n",
       "10199           2042.484211      60.681579      0.831579  \n",
       "\n",
       "[10200 rows x 36 columns]"
      ]
     },
     "execution_count": 12,
     "metadata": {},
     "output_type": "execute_result"
    }
   ],
   "source": [
    "#Q3\n",
    "merged_data_frame=new_conf_data.merge(mean_median_max_min_var,on='d_id')\n",
    "merged_data_frame_withoutDid=merged_data_frame.drop(['d_id','fail'],axis=1)\n",
    "onlyFails=merged_data_frame['fail']\n",
    "merged_data_frame_withoutDid\n"
   ]
  },
  {
   "cell_type": "markdown",
   "id": "d91029d0",
   "metadata": {
    "_uuid": "956022c6df071588f65311d2ac94326e71996707",
    "papermill": {
     "duration": 0.055105,
     "end_time": "2021-11-16T20:45:28.605635",
     "exception": false,
     "start_time": "2021-11-16T20:45:28.550530",
     "status": "completed"
    },
    "tags": []
   },
   "source": [
    "# Select the 10 most informative features and transform the data"
   ]
  },
  {
   "cell_type": "code",
   "execution_count": 13,
   "id": "166cd412",
   "metadata": {
    "_uuid": "dd7234f60319e9228799e26a899f0fe10f0e17f8",
    "execution": {
     "iopub.execute_input": "2021-11-16T20:45:28.719496Z",
     "iopub.status.busy": "2021-11-16T20:45:28.718783Z",
     "iopub.status.idle": "2021-11-16T20:45:28.736110Z",
     "shell.execute_reply": "2021-11-16T20:45:28.736584Z",
     "shell.execute_reply.started": "2021-11-16T19:55:41.607453Z"
    },
    "papermill": {
     "duration": 0.076022,
     "end_time": "2021-11-16T20:45:28.736771",
     "exception": false,
     "start_time": "2021-11-16T20:45:28.660749",
     "status": "completed"
    },
    "tags": []
   },
   "outputs": [
    {
     "data": {
      "text/plain": [
       "array([[11.  , 81.5 , 11.3 , ...,  4.  ,  0.  , 69.  ],\n",
       "       [18.  , 83.5 , 18.8 , ..., 13.  ,  3.  , 69.  ],\n",
       "       [21.5 , 96.5 , 20.  , ..., 10.  ,  5.  , 77.  ],\n",
       "       ...,\n",
       "       [10.  , 71.  , 11.15, ...,  5.  ,  8.  , 55.  ],\n",
       "       [ 7.5 , 62.5 ,  6.9 , ...,  2.  , 11.  , 49.  ],\n",
       "       [10.  , 83.  ,  9.75, ...,  6.  , 14.  , 73.  ]])"
      ]
     },
     "execution_count": 13,
     "metadata": {},
     "output_type": "execute_result"
    }
   ],
   "source": [
    "#Q4\n",
    "selectedKBest=SelectKBest(f_classif,k=10).fit_transform(merged_data_frame_withoutDid,onlyFails)\n",
    "selectedKBest"
   ]
  },
  {
   "cell_type": "markdown",
   "id": "656f8e73",
   "metadata": {
    "_uuid": "23960bcea1a9bfaeb0628a92681da342aea749a8",
    "papermill": {
     "duration": 0.055262,
     "end_time": "2021-11-16T20:45:28.847746",
     "exception": false,
     "start_time": "2021-11-16T20:45:28.792484",
     "status": "completed"
    },
    "tags": []
   },
   "source": [
    "# Train a Decision tree classifier \n",
    "\n",
    "Since we are learning and testing on the same set we will limit the maximum depth parameter to 5 to prevent overfitting"
   ]
  },
  {
   "cell_type": "code",
   "execution_count": 14,
   "id": "b67ba429",
   "metadata": {
    "_uuid": "a199b5d70023648d1a3b22b3e2aa8e1cd6ddf836",
    "execution": {
     "iopub.execute_input": "2021-11-16T20:45:28.963237Z",
     "iopub.status.busy": "2021-11-16T20:45:28.962565Z",
     "iopub.status.idle": "2021-11-16T20:45:28.970323Z",
     "shell.execute_reply": "2021-11-16T20:45:28.971035Z",
     "shell.execute_reply.started": "2021-11-16T19:55:45.781891Z"
    },
    "papermill": {
     "duration": 0.067738,
     "end_time": "2021-11-16T20:45:28.971281",
     "exception": false,
     "start_time": "2021-11-16T20:45:28.903543",
     "status": "completed"
    },
    "scrolled": true,
    "tags": []
   },
   "outputs": [],
   "source": [
    "#Q5\n",
    "from sklearn.model_selection import train_test_split\n",
    "X_train,X_test,y_train,y_test=train_test_split(selectedKBest,onlyFails,random_state=0,shuffle=True)"
   ]
  },
  {
   "cell_type": "code",
   "execution_count": 15,
   "id": "f45f8e1a",
   "metadata": {
    "execution": {
     "iopub.execute_input": "2021-11-16T20:45:29.089490Z",
     "iopub.status.busy": "2021-11-16T20:45:29.088794Z",
     "iopub.status.idle": "2021-11-16T20:45:29.096159Z",
     "shell.execute_reply": "2021-11-16T20:45:29.097284Z",
     "shell.execute_reply.started": "2021-11-16T19:55:47.600076Z"
    },
    "papermill": {
     "duration": 0.067897,
     "end_time": "2021-11-16T20:45:29.097610",
     "exception": false,
     "start_time": "2021-11-16T20:45:29.029713",
     "status": "completed"
    },
    "tags": []
   },
   "outputs": [
    {
     "name": "stdout",
     "output_type": "stream",
     "text": [
      "<class 'pandas.core.series.Series'>\n",
      "8311    False\n",
      "318     False\n",
      "4777    False\n",
      "7366    False\n",
      "9675    False\n",
      "Name: fail, dtype: bool\n",
      "[[ 9.   84.5   9.5  ...  4.   12.   66.  ]\n",
      " [13.   85.   12.7  ...  7.    6.   74.  ]\n",
      " [ 8.   78.    8.6  ...  4.   11.   63.  ]\n",
      " ...\n",
      " [10.   70.   10.05 ...  5.    8.   56.  ]\n",
      " [ 7.   65.    7.6  ...  5.    6.   57.  ]\n",
      " [14.   71.   13.95 ...  7.   13.   59.  ]]\n"
     ]
    }
   ],
   "source": [
    "print(type(y_train))\n",
    "print(y_train.head())\n",
    "print(X_train)"
   ]
  },
  {
   "cell_type": "code",
   "execution_count": 16,
   "id": "98c32b73",
   "metadata": {
    "execution": {
     "iopub.execute_input": "2021-11-16T20:45:29.215583Z",
     "iopub.status.busy": "2021-11-16T20:45:29.214900Z",
     "iopub.status.idle": "2021-11-16T20:45:29.264585Z",
     "shell.execute_reply": "2021-11-16T20:45:29.263601Z",
     "shell.execute_reply.started": "2021-11-16T19:55:49.898530Z"
    },
    "papermill": {
     "duration": 0.108937,
     "end_time": "2021-11-16T20:45:29.264801",
     "exception": false,
     "start_time": "2021-11-16T20:45:29.155864",
     "status": "completed"
    },
    "tags": []
   },
   "outputs": [
    {
     "name": "stdout",
     "output_type": "stream",
     "text": [
      "Accuracy of Decision Tree classifier on training set: 0.99\n",
      "Area under curve: 0.8583433373349341\n"
     ]
    }
   ],
   "source": [
    "from sklearn.metrics import roc_auc_score\n",
    "clf=DecisionTreeClassifier()\n",
    "clf.max_depth=20\n",
    "clf.fit(X_train,y_train)\n",
    "\n",
    "print('Accuracy of Decision Tree classifier on training set: {:.2f}'\n",
    "     .format(clf.score(X_test, y_test)))\n",
    "print(\"Area under curve: \"+str(roc_auc_score(y_test, clf.predict_proba(X_test)[:, 1])))\n"
   ]
  },
  {
   "cell_type": "markdown",
   "id": "bf68387d",
   "metadata": {
    "_uuid": "1113a8133abda565e4b77968a88c5def6c6669f9",
    "papermill": {
     "duration": 0.056884,
     "end_time": "2021-11-16T20:45:29.379463",
     "exception": false,
     "start_time": "2021-11-16T20:45:29.322579",
     "status": "completed"
    },
    "tags": []
   },
   "source": [
    "# Make the prediction and plot the confusion matrix\n",
    "https://en.wikipedia.org/wiki/Confusion_matrix\n",
    "\n",
    "* Change \"max_depth\" paramter to see what happens to model results\n"
   ]
  },
  {
   "cell_type": "code",
   "execution_count": 17,
   "id": "a18f1c90",
   "metadata": {
    "execution": {
     "iopub.execute_input": "2021-11-16T20:45:29.502073Z",
     "iopub.status.busy": "2021-11-16T20:45:29.501445Z",
     "iopub.status.idle": "2021-11-16T20:45:29.751036Z",
     "shell.execute_reply": "2021-11-16T20:45:29.749995Z",
     "shell.execute_reply.started": "2021-11-16T19:55:56.754014Z"
    },
    "papermill": {
     "duration": 0.314473,
     "end_time": "2021-11-16T20:45:29.751187",
     "exception": false,
     "start_time": "2021-11-16T20:45:29.436714",
     "status": "completed"
    },
    "tags": []
   },
   "outputs": [
    {
     "name": "stdout",
     "output_type": "stream",
     "text": [
      "Accuracy of Decision Tree classifier on test set: 0.99\n",
      "              precision    recall  f1-score   support\n",
      "\n",
      "       False       0.99      0.99      0.99      2499\n",
      "        True       0.63      0.73      0.67        51\n",
      "\n",
      "    accuracy                           0.99      2550\n",
      "   macro avg       0.81      0.86      0.83      2550\n",
      "weighted avg       0.99      0.99      0.99      2550\n",
      "\n"
     ]
    },
    {
     "data": {
      "image/png": "[encoded data removed]",
      "text/plain": [
       "<Figure size 432x288 with 2 Axes>"
      ]
     },
     "metadata": {
      "needs_background": "light"
     },
     "output_type": "display_data"
    }
   ],
   "source": [
    "#Q6\n",
    "from sklearn.metrics import classification_report\n",
    "from sklearn.metrics import plot_confusion_matrix\n",
    "\n",
    "predictions=clf.predict(X_test)\n",
    "print('Accuracy of Decision Tree classifier on test set: {:.2f}'\n",
    "     .format(clf.score(X_test, y_test)))\n",
    "mapped_y_test=['Pass' if x else 'Fail' for x in y_test]\n",
    "plot_confusion_matrix(clf,X_test,y_test)\n",
    "print(classification_report(y_test,predictions))"
   ]
  },
  {
   "cell_type": "markdown",
   "id": "cbb53c22",
   "metadata": {
    "papermill": {
     "duration": 0.056657,
     "end_time": "2021-11-16T20:45:29.865729",
     "exception": false,
     "start_time": "2021-11-16T20:45:29.809072",
     "status": "completed"
    },
    "tags": []
   },
   "source": [
    "# Find the error\n",
    "\n",
    "Guy claims that if you followed the instruction until Q6 then there is a mistake in the notebook and that we can not rely on the reported performance when information about a new hard drive will arrive\n",
    "\n",
    "1. Explain in words what is the error \n",
    "1. Explain in words what you have to change in order to fix the error\n",
    "1. Fix the error. Submit a fixed notebook only"
   ]
  },
  {
   "cell_type": "markdown",
   "id": "5ba90ef2",
   "metadata": {
    "papermill": {
     "duration": 0.056892,
     "end_time": "2021-11-16T20:45:29.982750",
     "exception": false,
     "start_time": "2021-11-16T20:45:29.925858",
     "status": "completed"
    },
    "tags": []
   },
   "source": [
    "# #Q7-Answer:\n",
    "1. As we can see, we have much more samples that thier output is False then samples that their output is Ture. Much more samples that the Hard-Disk didn't fail than those that the Hard-Drive failed.\n",
    "The rate is significant and as a result, the model is trained to be accurate about Pass samples then about Fail samples."
   ]
  },
  {
   "cell_type": "code",
   "execution_count": 18,
   "id": "47dffaec",
   "metadata": {
    "execution": {
     "iopub.execute_input": "2021-11-16T20:45:30.104307Z",
     "iopub.status.busy": "2021-11-16T20:45:30.103311Z",
     "iopub.status.idle": "2021-11-16T20:45:30.427535Z",
     "shell.execute_reply": "2021-11-16T20:45:30.427017Z",
     "shell.execute_reply.started": "2021-11-16T19:56:01.698174Z"
    },
    "papermill": {
     "duration": 0.386736,
     "end_time": "2021-11-16T20:45:30.427677",
     "exception": false,
     "start_time": "2021-11-16T20:45:30.040941",
     "status": "completed"
    },
    "tags": []
   },
   "outputs": [
    {
     "data": {
      "image/png": "[encoded data removed]",
      "text/plain": [
       "<Figure size 432x288 with 1 Axes>"
      ]
     },
     "metadata": {
      "needs_background": "light"
     },
     "output_type": "display_data"
    }
   ],
   "source": [
    "#Q7\n",
    "import seaborn as sns\n",
    "#We can also visualize it:\n",
    "sns.countplot(x=ts_data['fail'],label=\"Count\")\n",
    "plt.title(\"All data- Fails vs Passes\")\n",
    "plt.show()"
   ]
  },
  {
   "cell_type": "markdown",
   "id": "59d62bc4",
   "metadata": {
    "papermill": {
     "duration": 0.058079,
     "end_time": "2021-11-16T20:45:30.545785",
     "exception": false,
     "start_time": "2021-11-16T20:45:30.487706",
     "status": "completed"
    },
    "tags": []
   },
   "source": [
    "Because the models is trained on major amount of Pass samples, and the test set is also with a great amount of Pass samples, the chance that the model will predict Pass, and that it will be correct, is very high."
   ]
  },
  {
   "cell_type": "code",
   "execution_count": 19,
   "id": "5608b6c6",
   "metadata": {
    "execution": {
     "iopub.execute_input": "2021-11-16T20:45:30.669820Z",
     "iopub.status.busy": "2021-11-16T20:45:30.669139Z",
     "iopub.status.idle": "2021-11-16T20:45:30.846827Z",
     "shell.execute_reply": "2021-11-16T20:45:30.846257Z",
     "shell.execute_reply.started": "2021-11-16T19:56:05.569095Z"
    },
    "papermill": {
     "duration": 0.242423,
     "end_time": "2021-11-16T20:45:30.846985",
     "exception": false,
     "start_time": "2021-11-16T20:45:30.604562",
     "status": "completed"
    },
    "tags": []
   },
   "outputs": [
    {
     "name": "stdout",
     "output_type": "stream",
     "text": [
      "Count train set\n"
     ]
    },
    {
     "data": {
      "image/png": "[encoded data removed]",
      "text/plain": [
       "<Figure size 432x288 with 1 Axes>"
      ]
     },
     "metadata": {
      "needs_background": "light"
     },
     "output_type": "display_data"
    }
   ],
   "source": [
    "print(\"Count train set\")\n",
    "sns.countplot(x=y_train,label=\"Count train set\")\n",
    "plt.title(\"Train set- Fails vs Passes\")\n",
    "plt.show()"
   ]
  },
  {
   "cell_type": "code",
   "execution_count": 20,
   "id": "c2f74751",
   "metadata": {
    "execution": {
     "iopub.execute_input": "2021-11-16T20:45:30.970006Z",
     "iopub.status.busy": "2021-11-16T20:45:30.969275Z",
     "iopub.status.idle": "2021-11-16T20:45:31.139748Z",
     "shell.execute_reply": "2021-11-16T20:45:31.139201Z",
     "shell.execute_reply.started": "2021-11-16T19:56:07.730326Z"
    },
    "papermill": {
     "duration": 0.232905,
     "end_time": "2021-11-16T20:45:31.139898",
     "exception": false,
     "start_time": "2021-11-16T20:45:30.906993",
     "status": "completed"
    },
    "tags": []
   },
   "outputs": [
    {
     "name": "stdout",
     "output_type": "stream",
     "text": [
      "Count test set\n"
     ]
    },
    {
     "data": {
      "image/png": "[encoded data removed]",
      "text/plain": [
       "<Figure size 432x288 with 1 Axes>"
      ]
     },
     "metadata": {
      "needs_background": "light"
     },
     "output_type": "display_data"
    }
   ],
   "source": [
    "print(\"Count test set\")\n",
    "sns.countplot(x=y_test,label=\"Count test set\")\n",
    "plt.title(\"Test set- Fails vs Passes\")\n",
    "plt.show()"
   ]
  },
  {
   "cell_type": "markdown",
   "id": "46714e39",
   "metadata": {
    "papermill": {
     "duration": 0.059976,
     "end_time": "2021-11-16T20:45:31.260402",
     "exception": false,
     "start_time": "2021-11-16T20:45:31.200426",
     "status": "completed"
    },
    "tags": []
   },
   "source": [
    "2. Some possible solutions to the situation are:\n",
    "* Oversample the smallest class\n",
    "* Undersample the biggest dataset\n",
    "* Class Weights\n",
    "\n",
    "We used this source: https://towardsdatascience.com/how-to-balance-a-dataset-in-python-36dff9d12704"
   ]
  },
  {
   "cell_type": "code",
   "execution_count": 21,
   "id": "0789a951",
   "metadata": {
    "execution": {
     "iopub.execute_input": "2021-11-16T20:45:31.389939Z",
     "iopub.status.busy": "2021-11-16T20:45:31.389180Z",
     "iopub.status.idle": "2021-11-16T20:45:31.856983Z",
     "shell.execute_reply": "2021-11-16T20:45:31.857527Z",
     "shell.execute_reply.started": "2021-11-16T20:26:49.531156Z"
    },
    "papermill": {
     "duration": 0.537076,
     "end_time": "2021-11-16T20:45:31.857705",
     "exception": false,
     "start_time": "2021-11-16T20:45:31.320629",
     "status": "completed"
    },
    "tags": []
   },
   "outputs": [
    {
     "name": "stdout",
     "output_type": "stream",
     "text": [
      "Accuracy of Decision Tree classifier on training set: 1.00\n",
      "Area under curve: 0.9970737135212261\n",
      "Accuracy of Decision Tree classifier on test set: 1.00\n",
      "              precision    recall  f1-score   support\n",
      "\n",
      "       False       1.00      0.99      1.00      2479\n",
      "        True       0.99      1.00      1.00      2521\n",
      "\n",
      "    accuracy                           1.00      5000\n",
      "   macro avg       1.00      1.00      1.00      5000\n",
      "weighted avg       1.00      1.00      1.00      5000\n",
      "\n"
     ]
    },
    {
     "data": {
      "image/png": "[encoded data removed]",
      "text/plain": [
       "<Figure size 432x288 with 2 Axes>"
      ]
     },
     "metadata": {
      "needs_background": "light"
     },
     "output_type": "display_data"
    }
   ],
   "source": [
    "#Oversample\n",
    "from imblearn.over_sampling import RandomOverSampler\n",
    "over_sampler=RandomOverSampler(random_state=42)\n",
    "X_res_oversample,y_res_oversample=over_sampler.fit_resample(selectedKBest,onlyFails)\n",
    "X_train_oversample,X_test_oversample,y_train_oversample,y_test_oversample=train_test_split(X_res_oversample,y_res_oversample,random_state=0,shuffle=True)\n",
    "clf.fit(X_train_oversample,y_train_oversample)\n",
    "print('Accuracy of Decision Tree classifier on training set: {:.2f}'\n",
    "     .format(clf.score(X_test_oversample, y_test_oversample)))\n",
    "print(\"Area under curve: \"+str(roc_auc_score(y_test_oversample, clf.predict_proba(X_test_oversample)[:, 1])))\n",
    "predictions=clf.predict(X_test_oversample)\n",
    "print('Accuracy of Decision Tree classifier on test set: {:.2f}'\n",
    "     .format(clf.score(X_test_oversample, y_test_oversample)))\n",
    "mapped_y_test=['Pass' if x else 'Fail' for x in y_test_oversample]\n",
    "plot_confusion_matrix(clf,X_test_oversample,y_test_oversample)\n",
    "print(classification_report(y_test_oversample,predictions))"
   ]
  },
  {
   "cell_type": "code",
   "execution_count": 22,
   "id": "0c4f7480",
   "metadata": {
    "execution": {
     "iopub.execute_input": "2021-11-16T20:45:31.984580Z",
     "iopub.status.busy": "2021-11-16T20:45:31.983658Z",
     "iopub.status.idle": "2021-11-16T20:45:32.248403Z",
     "shell.execute_reply": "2021-11-16T20:45:32.248903Z",
     "shell.execute_reply.started": "2021-11-16T20:25:21.750019Z"
    },
    "papermill": {
     "duration": 0.329847,
     "end_time": "2021-11-16T20:45:32.249081",
     "exception": false,
     "start_time": "2021-11-16T20:45:31.919234",
     "status": "completed"
    },
    "tags": []
   },
   "outputs": [
    {
     "name": "stdout",
     "output_type": "stream",
     "text": [
      "Accuracy of Decision Tree classifier on training set: 0.98\n",
      "Area under curve: 0.9818181818181818\n",
      "Accuracy of Decision Tree classifier on test set: 0.98\n",
      "              precision    recall  f1-score   support\n",
      "\n",
      "       False       1.00      0.96      0.98        55\n",
      "        True       0.96      1.00      0.98        45\n",
      "\n",
      "    accuracy                           0.98       100\n",
      "   macro avg       0.98      0.98      0.98       100\n",
      "weighted avg       0.98      0.98      0.98       100\n",
      "\n"
     ]
    },
    {
     "data": {
      "image/png": "[encoded data removed]",
      "text/plain": [
       "<Figure size 432x288 with 2 Axes>"
      ]
     },
     "metadata": {
      "needs_background": "light"
     },
     "output_type": "display_data"
    }
   ],
   "source": [
    "#Undersample\n",
    "from imblearn.under_sampling import RandomUnderSampler\n",
    "under_sampler=RandomUnderSampler(random_state=42)\n",
    "X_res_undersample,y_res_undersample=under_sampler.fit_resample(selectedKBest,onlyFails)\n",
    "X_train_undersample,X_test_undersample,y_train_undersample,y_test_undersample=train_test_split(X_res_undersample,y_res_undersample,random_state=0,shuffle=True)\n",
    "clf.fit(X_train_undersample,y_train_undersample)\n",
    "print('Accuracy of Decision Tree classifier on training set: {:.2f}'\n",
    "     .format(clf.score(X_test_undersample, y_test_undersample)))\n",
    "print(\"Area under curve: \"+str(roc_auc_score(y_test_undersample, clf.predict_proba(X_test_undersample)[:, 1])))\n",
    "predictions=clf.predict(X_test_undersample)\n",
    "print('Accuracy of Decision Tree classifier on test set: {:.2f}'\n",
    "     .format(clf.score(X_test_undersample, y_test_undersample)))\n",
    "mapped_y_test=['Pass' if x else 'Fail' for x in y_test_undersample]\n",
    "plot_confusion_matrix(clf,X_test_undersample,y_test_undersample)\n",
    "print(classification_report(y_test_undersample,predictions))"
   ]
  },
  {
   "cell_type": "code",
   "execution_count": 23,
   "id": "220abad6",
   "metadata": {
    "execution": {
     "iopub.execute_input": "2021-11-16T20:45:32.378973Z",
     "iopub.status.busy": "2021-11-16T20:45:32.378229Z",
     "iopub.status.idle": "2021-11-16T20:45:32.652301Z",
     "shell.execute_reply": "2021-11-16T20:45:32.652774Z",
     "shell.execute_reply.started": "2021-11-16T20:08:16.849734Z"
    },
    "papermill": {
     "duration": 0.340034,
     "end_time": "2021-11-16T20:45:32.653028",
     "exception": false,
     "start_time": "2021-11-16T20:45:32.312994",
     "status": "completed"
    },
    "tags": []
   },
   "outputs": [
    {
     "name": "stdout",
     "output_type": "stream",
     "text": [
      "Accuracy of Decision Tree classifier on training set: 0.95\n",
      "Area under curve: 0.9221492518576059\n",
      "Accuracy of Decision Tree classifier on test set: 0.95\n",
      "              precision    recall  f1-score   support\n",
      "\n",
      "       False       1.00      0.96      0.98      2499\n",
      "        True       0.29      0.86      0.43        51\n",
      "\n",
      "    accuracy                           0.95      2550\n",
      "   macro avg       0.64      0.91      0.70      2550\n",
      "weighted avg       0.98      0.95      0.97      2550\n",
      "\n"
     ]
    },
    {
     "data": {
      "image/png": "[encoded data removed]",
      "text/plain": [
       "<Figure size 432x288 with 2 Axes>"
      ]
     },
     "metadata": {
      "needs_background": "light"
     },
     "output_type": "display_data"
    }
   ],
   "source": [
    "#Class weights- balanced Decision Tree\n",
    "X_train,X_test,y_train,y_test=train_test_split(selectedKBest,onlyFails,random_state=0,shuffle=True)\n",
    "clf=DecisionTreeClassifier(class_weight='balanced')\n",
    "clf.max_depth=5\n",
    "clf.fit(X_train,y_train)\n",
    "print('Accuracy of Decision Tree classifier on training set: {:.2f}'\n",
    "     .format(clf.score(X_test, y_test)))\n",
    "print(\"Area under curve: \"+str(roc_auc_score(y_test, clf.predict_proba(X_test)[:, 1])))\n",
    "predictions=clf.predict(X_test)\n",
    "print('Accuracy of Decision Tree classifier on test set: {:.2f}'\n",
    "     .format(clf.score(X_test, y_test)))\n",
    "mapped_y_test=['Pass' if x else 'Fail' for x in y_test]\n",
    "plot_confusion_matrix(clf,X_test,y_test)\n",
    "print(classification_report(y_test,predictions))"
   ]
  },
  {
   "cell_type": "code",
   "execution_count": 24,
   "id": "be417c8c",
   "metadata": {
    "execution": {
     "iopub.execute_input": "2021-11-16T20:45:32.784325Z",
     "iopub.status.busy": "2021-11-16T20:45:32.783669Z",
     "iopub.status.idle": "2021-11-16T20:45:33.063337Z",
     "shell.execute_reply": "2021-11-16T20:45:33.062683Z",
     "shell.execute_reply.started": "2021-11-16T20:11:57.896513Z"
    },
    "papermill": {
     "duration": 0.346067,
     "end_time": "2021-11-16T20:45:33.063499",
     "exception": false,
     "start_time": "2021-11-16T20:45:32.717432",
     "status": "completed"
    },
    "tags": []
   },
   "outputs": [
    {
     "name": "stdout",
     "output_type": "stream",
     "text": [
      "Ratio: 0.02\n",
      "Accuracy of Decision Tree classifier on training set: 0.98\n",
      "Area under curve: 0.5871171998211049\n",
      "Accuracy of Decision Tree classifier on test set: 0.98\n",
      "              precision    recall  f1-score   support\n",
      "\n",
      "       False       0.98      1.00      0.99      2499\n",
      "        True       0.83      0.10      0.18        51\n",
      "\n",
      "    accuracy                           0.98      2550\n",
      "   macro avg       0.91      0.55      0.58      2550\n",
      "weighted avg       0.98      0.98      0.97      2550\n",
      "\n"
     ]
    },
    {
     "data": {
      "image/png": "[encoded data removed]",
      "text/plain": [
       "<Figure size 432x288 with 2 Axes>"
      ]
     },
     "metadata": {
      "needs_background": "light"
     },
     "output_type": "display_data"
    }
   ],
   "source": [
    "#Class weights- calculated manually defined weights: max depth=5\n",
    "numberOfPasses=onlyFails.value_counts()[0]\n",
    "numberOfFails=onlyFails.value_counts()[1]\n",
    "ratio=numberOfFails/numberOfPasses\n",
    "print(\"Ratio: \"+str(ratio))\n",
    "clf=DecisionTreeClassifier(class_weight={True:0.02,False:1})\n",
    "clf.max_depth=5\n",
    "clf.fit(X_train,y_train)\n",
    "print('Accuracy of Decision Tree classifier on training set: {:.2f}'\n",
    "     .format(clf.score(X_test, y_test)))\n",
    "print(\"Area under curve: \"+str(roc_auc_score(y_test, clf.predict_proba(X_test)[:, 1])))\n",
    "predictions=clf.predict(X_test)\n",
    "print('Accuracy of Decision Tree classifier on test set: {:.2f}'\n",
    "     .format(clf.score(X_test, y_test)))\n",
    "mapped_y_test=['Pass' if x else 'Fail' for x in y_test]\n",
    "plot_confusion_matrix(clf,X_test,y_test)\n",
    "print(classification_report(y_test,predictions))"
   ]
  },
  {
   "cell_type": "code",
   "execution_count": 25,
   "id": "89da0b74",
   "metadata": {
    "execution": {
     "iopub.execute_input": "2021-11-16T20:45:33.202794Z",
     "iopub.status.busy": "2021-11-16T20:45:33.196715Z",
     "iopub.status.idle": "2021-11-16T20:45:33.521001Z",
     "shell.execute_reply": "2021-11-16T20:45:33.521822Z",
     "shell.execute_reply.started": "2021-11-16T20:12:37.609571Z"
    },
    "papermill": {
     "duration": 0.392923,
     "end_time": "2021-11-16T20:45:33.522174",
     "exception": false,
     "start_time": "2021-11-16T20:45:33.129251",
     "status": "completed"
    },
    "tags": []
   },
   "outputs": [
    {
     "name": "stdout",
     "output_type": "stream",
     "text": [
      "Ratio: 0.02\n",
      "Accuracy of Decision Tree classifier on training set: 0.98\n",
      "Area under curve: 0.8378567113119758\n",
      "Accuracy of Decision Tree classifier on test set: 0.98\n",
      "              precision    recall  f1-score   support\n",
      "\n",
      "       False       0.99      0.99      0.99      2499\n",
      "        True       0.58      0.65      0.61        51\n",
      "\n",
      "    accuracy                           0.98      2550\n",
      "   macro avg       0.79      0.82      0.80      2550\n",
      "weighted avg       0.98      0.98      0.98      2550\n",
      "\n"
     ]
    },
    {
     "data": {
      "image/png": "[encoded data removed]",
      "text/plain": [
       "<Figure size 432x288 with 2 Axes>"
      ]
     },
     "metadata": {
      "needs_background": "light"
     },
     "output_type": "display_data"
    }
   ],
   "source": [
    "#Class weights- calculated manually defined weights: max depth=20\n",
    "numberOfPasses=onlyFails.value_counts()[0]\n",
    "numberOfFails=onlyFails.value_counts()[1]\n",
    "ratio=numberOfFails/numberOfPasses\n",
    "print(\"Ratio: \"+str(ratio))\n",
    "clf=DecisionTreeClassifier(class_weight={True:0.02,False:1})\n",
    "clf.max_depth=20\n",
    "clf.fit(X_train,y_train)\n",
    "print('Accuracy of Decision Tree classifier on training set: {:.2f}'\n",
    "     .format(clf.score(X_test, y_test)))\n",
    "print(\"Area under curve: \"+str(roc_auc_score(y_test, clf.predict_proba(X_test)[:, 1])))\n",
    "predictions=clf.predict(X_test)\n",
    "print('Accuracy of Decision Tree classifier on test set: {:.2f}'\n",
    "     .format(clf.score(X_test, y_test)))\n",
    "mapped_y_test=['Pass' if x else 'Fail' for x in y_test]\n",
    "plot_confusion_matrix(clf,X_test,y_test)\n",
    "print(classification_report(y_test,predictions))"
   ]
  },
  {
   "cell_type": "markdown",
   "id": "162360de",
   "metadata": {
    "papermill": {
     "duration": 0.065746,
     "end_time": "2021-11-16T20:45:33.659493",
     "exception": false,
     "start_time": "2021-11-16T20:45:33.593747",
     "status": "completed"
    },
    "tags": []
   },
   "source": [
    "# Improving the results\n",
    "Find an improvment which will increase the performance in terms of model's accuracy (https://scikit-learn.org/stable/modules/generated/sklearn.metrics.accuracy_score.html)\n",
    "\n",
    "Explain in words what did you change, document the results before and after you suggested improvment"
   ]
  },
  {
   "cell_type": "code",
   "execution_count": 26,
   "id": "cd0a9340",
   "metadata": {
    "execution": {
     "iopub.execute_input": "2021-11-16T20:45:33.795051Z",
     "iopub.status.busy": "2021-11-16T20:45:33.794242Z",
     "iopub.status.idle": "2021-11-16T20:45:33.800833Z",
     "shell.execute_reply": "2021-11-16T20:45:33.801322Z",
     "shell.execute_reply.started": "2021-11-16T20:17:08.057246Z"
    },
    "papermill": {
     "duration": 0.075504,
     "end_time": "2021-11-16T20:45:33.801503",
     "exception": false,
     "start_time": "2021-11-16T20:45:33.725999",
     "status": "completed"
    },
    "tags": []
   },
   "outputs": [
    {
     "name": "stdout",
     "output_type": "stream",
     "text": [
      "The current accuracy:\n"
     ]
    },
    {
     "data": {
      "text/plain": [
       "0.9835294117647059"
      ]
     },
     "execution_count": 26,
     "metadata": {},
     "output_type": "execute_result"
    }
   ],
   "source": [
    "#Q8\n",
    "from sklearn.metrics import accuracy_score\n",
    "print(\"The current accuracy:\")\n",
    "accuracy_score(y_test, predictions,normalize=True, sample_weight=None)"
   ]
  },
  {
   "cell_type": "markdown",
   "id": "932843b0",
   "metadata": {
    "papermill": {
     "duration": 0.067986,
     "end_time": "2021-11-16T20:45:33.936298",
     "exception": false,
     "start_time": "2021-11-16T20:45:33.868312",
     "status": "completed"
    },
    "tags": []
   },
   "source": [
    "First try to improve the results:\n",
    "* Lets examine the performance of other tranning models"
   ]
  },
  {
   "cell_type": "code",
   "execution_count": 27,
   "id": "72393bfd",
   "metadata": {
    "execution": {
     "iopub.execute_input": "2021-11-16T20:45:34.098960Z",
     "iopub.status.busy": "2021-11-16T20:45:34.098283Z",
     "iopub.status.idle": "2021-11-16T20:45:35.659951Z",
     "shell.execute_reply": "2021-11-16T20:45:35.660483Z",
     "shell.execute_reply.started": "2021-11-16T20:28:40.502118Z"
    },
    "papermill": {
     "duration": 1.646327,
     "end_time": "2021-11-16T20:45:35.660678",
     "exception": false,
     "start_time": "2021-11-16T20:45:34.014351",
     "status": "completed"
    },
    "tags": []
   },
   "outputs": [
    {
     "name": "stdout",
     "output_type": "stream",
     "text": [
      "KNN:\n",
      "\n",
      "Original data:\n",
      "\n",
      "Accuracy of K-NN classifier on training set: 0.99\n",
      "Accuracy of K-NN classifier on test set: 0.99\n",
      "\n",
      "Oversampling:\n",
      "\n",
      "Accuracy of K-NN classifier on training set: 0.99\n",
      "Accuracy of K-NN classifier on test set: 0.99\n",
      "\n",
      "Undersampling:\n",
      "\n",
      "Accuracy of K-NN classifier on training set: 0.94\n",
      "Accuracy of K-NN classifier on test set: 0.96\n"
     ]
    }
   ],
   "source": [
    "#KNN\n",
    "from sklearn.neighbors import KNeighborsClassifier\n",
    "knn = KNeighborsClassifier(weights='uniform')\n",
    "knn.fit(X_train,y_train)\n",
    "print(\"KNN:\\n\")\n",
    "print(\"Original data:\\n\")\n",
    "print('Accuracy of K-NN classifier on training set: {:.2f}'\n",
    "     .format(knn.score(X_train, y_train)))\n",
    "print('Accuracy of K-NN classifier on test set: {:.2f}'\n",
    "     .format(knn.score(X_test, y_test)))\n",
    "print(\"\\nOversampling:\\n\")\n",
    "knn.fit(X_train_oversample,y_train_oversample)\n",
    "print('Accuracy of K-NN classifier on training set: {:.2f}'\n",
    "     .format(knn.score(X_train_oversample, y_train_oversample)))\n",
    "print('Accuracy of K-NN classifier on test set: {:.2f}'\n",
    "     .format(knn.score(X_test_oversample, y_test_oversample)))\n",
    "\n",
    "print(\"\\nUndersampling:\\n\")\n",
    "knn.fit(X_train_undersample,y_train_undersample)\n",
    "print('Accuracy of K-NN classifier on training set: {:.2f}'\n",
    "     .format(knn.score(X_train_undersample, y_train_undersample)))\n",
    "print('Accuracy of K-NN classifier on test set: {:.2f}'\n",
    "     .format(knn.score(X_test_undersample, y_test_undersample)))\n"
   ]
  },
  {
   "cell_type": "code",
   "execution_count": 28,
   "id": "ac55e455",
   "metadata": {
    "execution": {
     "iopub.execute_input": "2021-11-16T20:45:35.806816Z",
     "iopub.status.busy": "2021-11-16T20:45:35.806046Z",
     "iopub.status.idle": "2021-11-16T20:45:35.835851Z",
     "shell.execute_reply": "2021-11-16T20:45:35.835272Z",
     "shell.execute_reply.started": "2021-11-16T20:32:25.439031Z"
    },
    "papermill": {
     "duration": 0.106398,
     "end_time": "2021-11-16T20:45:35.836009",
     "exception": false,
     "start_time": "2021-11-16T20:45:35.729611",
     "status": "completed"
    },
    "tags": []
   },
   "outputs": [
    {
     "name": "stdout",
     "output_type": "stream",
     "text": [
      "Naive Bayes:\n",
      "\n",
      "Original data:\n",
      "\n",
      "Accuracy of GNB classifier on training set: 0.98\n",
      "Accuracy of GNB classifier on test set: 0.97\n",
      "\n",
      "Oversampling:\n",
      "\n",
      "Accuracy of GNB classifier on training set: 0.95\n",
      "Accuracy of GNB classifier on test set: 0.95\n",
      "\n",
      "Undersampling:\n",
      "\n",
      "Accuracy of GNB classifier on training set: 0.95\n",
      "Accuracy of GNB classifier on test set: 0.97\n"
     ]
    }
   ],
   "source": [
    "from sklearn.naive_bayes import GaussianNB\n",
    "gnb = GaussianNB()\n",
    "\n",
    "print(\"Naive Bayes:\\n\")\n",
    "print(\"Original data:\\n\")\n",
    "gnb.fit(X_train,y_train)\n",
    "print('Accuracy of GNB classifier on training set: {:.2f}'\n",
    "     .format(gnb.score(X_train, y_train)))\n",
    "print('Accuracy of GNB classifier on test set: {:.2f}'\n",
    "     .format(gnb.score(X_test, y_test)))\n",
    "\n",
    "print(\"\\nOversampling:\\n\")\n",
    "gnb.fit(X_train_oversample,y_train_oversample)\n",
    "print('Accuracy of GNB classifier on training set: {:.2f}'\n",
    "     .format(gnb.score(X_train_oversample, y_train_oversample)))\n",
    "print('Accuracy of GNB classifier on test set: {:.2f}'\n",
    "     .format(gnb.score(X_test_oversample, y_test_oversample)))\n",
    "\n",
    "print(\"\\nUndersampling:\\n\")\n",
    "gnb.fit(X_train_undersample,y_train_undersample)\n",
    "print('Accuracy of GNB classifier on training set: {:.2f}'\n",
    "     .format(gnb.score(X_train_undersample, y_train_undersample)))\n",
    "print('Accuracy of GNB classifier on test set: {:.2f}'\n",
    "     .format(gnb.score(X_test_undersample, y_test_undersample)))"
   ]
  },
  {
   "cell_type": "code",
   "execution_count": 29,
   "id": "cdd0bc85",
   "metadata": {
    "execution": {
     "iopub.execute_input": "2021-11-16T20:45:36.038743Z",
     "iopub.status.busy": "2021-11-16T20:45:36.017774Z",
     "iopub.status.idle": "2021-11-16T20:45:38.534114Z",
     "shell.execute_reply": "2021-11-16T20:45:38.534620Z",
     "shell.execute_reply.started": "2021-11-16T20:34:12.819536Z"
    },
    "papermill": {
     "duration": 2.630535,
     "end_time": "2021-11-16T20:45:38.534808",
     "exception": false,
     "start_time": "2021-11-16T20:45:35.904273",
     "status": "completed"
    },
    "tags": []
   },
   "outputs": [
    {
     "name": "stdout",
     "output_type": "stream",
     "text": [
      "Random forest:\n",
      "\n",
      "Original data:\n",
      "\n",
      "Accuracy of rf classifier on training set: 1.00\n",
      "Accuracy of rf classifier on test set: 0.99\n",
      "\n",
      "Oversampling:\n",
      "\n",
      "Accuracy of rf classifier on training set: 1.00\n",
      "Accuracy of rf classifier on test set: 1.00\n",
      "\n",
      "Undersampling:\n",
      "\n",
      "Accuracy of rf classifier on training set: 1.00\n",
      "Accuracy of rf classifier on test set: 0.98\n"
     ]
    }
   ],
   "source": [
    "from sklearn.ensemble import RandomForestClassifier\n",
    "clf = RandomForestClassifier()\n",
    "print(\"Random forest:\\n\")\n",
    "\n",
    "print(\"Original data:\\n\")\n",
    "clf.fit(X_train,y_train)\n",
    "print('Accuracy of rf classifier on training set: {:.2f}'\n",
    "     .format(clf.score(X_train, y_train)))\n",
    "print('Accuracy of rf classifier on test set: {:.2f}'\n",
    "     .format(clf.score(X_test, y_test)))\n",
    "\n",
    "print(\"\\nOversampling:\\n\")\n",
    "clf.fit(X_train_oversample,y_train_oversample)\n",
    "print('Accuracy of rf classifier on training set: {:.2f}'\n",
    "     .format(clf.score(X_train_oversample, y_train_oversample)))\n",
    "print('Accuracy of rf classifier on test set: {:.2f}'\n",
    "     .format(clf.score(X_test_oversample, y_test_oversample)))\n",
    "\n",
    "print(\"\\nUndersampling:\\n\")\n",
    "clf.fit(X_train_undersample,y_train_undersample)\n",
    "print('Accuracy of rf classifier on training set: {:.2f}'\n",
    "     .format(clf.score(X_train_undersample, y_train_undersample)))\n",
    "print('Accuracy of rf classifier on test set: {:.2f}'\n",
    "     .format(clf.score(X_test_undersample, y_test_undersample)))"
   ]
  },
  {
   "cell_type": "code",
   "execution_count": 30,
   "id": "d593023d",
   "metadata": {
    "execution": {
     "iopub.execute_input": "2021-11-16T20:45:38.688755Z",
     "iopub.status.busy": "2021-11-16T20:45:38.687751Z",
     "iopub.status.idle": "2021-11-16T20:45:42.344438Z",
     "shell.execute_reply": "2021-11-16T20:45:42.343335Z",
     "shell.execute_reply.started": "2021-11-16T20:37:07.322159Z"
    },
    "papermill": {
     "duration": 3.739703,
     "end_time": "2021-11-16T20:45:42.344654",
     "exception": false,
     "start_time": "2021-11-16T20:45:38.604951",
     "status": "completed"
    },
    "tags": []
   },
   "outputs": [
    {
     "name": "stdout",
     "output_type": "stream",
     "text": [
      "Boosting algorithms:\n",
      "\n",
      "Original data:\n",
      "\n",
      "Accuracy of XGBClassifier classifier on training set: 1.00\n",
      "Accuracy of XGBClassifier classifier on test set: 0.99\n",
      "\n",
      "Oversampling:\n",
      "\n",
      "Accuracy of XGBClassifier classifier on training set: 0.99\n",
      "Accuracy of XGBClassifier classifier on test set: 0.99\n",
      "\n",
      "Undersampling:\n",
      "\n",
      "Accuracy of XGBClassifier classifier on training set: 1.00\n",
      "Accuracy of XGBClassifier classifier on test set: 0.97\n"
     ]
    }
   ],
   "source": [
    "from sklearn.ensemble import GradientBoostingClassifier\n",
    "clf = GradientBoostingClassifier()\n",
    "print(\"Boosting algorithms:\\n\")\n",
    "\n",
    "print(\"Original data:\\n\")\n",
    "clf.fit(X_train, y_train)\n",
    "print('Accuracy of XGBClassifier classifier on training set: {:.2f}'\n",
    "     .format(clf.score(X_train, y_train)))\n",
    "print('Accuracy of XGBClassifier classifier on test set: {:.2f}'\n",
    "     .format(clf.score(X_test, y_test)))\n",
    "\n",
    "print(\"\\nOversampling:\\n\")\n",
    "clf.fit(X_train_oversample, y_train_oversample)\n",
    "print('Accuracy of XGBClassifier classifier on training set: {:.2f}'\n",
    "     .format(clf.score(X_train_oversample, y_train_oversample)))\n",
    "print('Accuracy of XGBClassifier classifier on test set: {:.2f}'\n",
    "     .format(clf.score(X_test_oversample, y_test_oversample)))\n",
    "\n",
    "print(\"\\nUndersampling:\\n\")\n",
    "clf.fit(X_train_undersample, y_train_undersample)\n",
    "print('Accuracy of XGBClassifier classifier on training set: {:.2f}'\n",
    "     .format(clf.score(X_train_undersample, y_train_undersample)))\n",
    "print('Accuracy of XGBClassifier classifier on test set: {:.2f}'\n",
    "     .format(clf.score(X_test_undersample, y_test_undersample)))"
   ]
  },
  {
   "cell_type": "markdown",
   "id": "bec762b1",
   "metadata": {
    "papermill": {
     "duration": 0.070281,
     "end_time": "2021-11-16T20:45:42.487022",
     "exception": false,
     "start_time": "2021-11-16T20:45:42.416741",
     "status": "completed"
    },
    "tags": []
   },
   "source": [
    "# As it seems, the best performance, on the given data, is for the use of:\n",
    "# Random Forest"
   ]
  },
  {
   "cell_type": "markdown",
   "id": "af909b37",
   "metadata": {
    "papermill": {
     "duration": 0.069867,
     "end_time": "2021-11-16T20:45:42.628214",
     "exception": false,
     "start_time": "2021-11-16T20:45:42.558347",
     "status": "completed"
    },
    "tags": []
   },
   "source": [
    "More options to try:\n",
    "* Feature engineering: scaling"
   ]
  },
  {
   "cell_type": "code",
   "execution_count": 31,
   "id": "9cc978bc",
   "metadata": {
    "execution": {
     "iopub.execute_input": "2021-11-16T20:45:42.772479Z",
     "iopub.status.busy": "2021-11-16T20:45:42.771459Z",
     "iopub.status.idle": "2021-11-16T20:45:43.019720Z",
     "shell.execute_reply": "2021-11-16T20:45:43.020406Z",
     "shell.execute_reply.started": "2021-11-16T20:43:32.567891Z"
    },
    "papermill": {
     "duration": 0.322326,
     "end_time": "2021-11-16T20:45:43.020644",
     "exception": false,
     "start_time": "2021-11-16T20:45:42.698318",
     "status": "completed"
    },
    "tags": []
   },
   "outputs": [
    {
     "name": "stdout",
     "output_type": "stream",
     "text": [
      "After taking more features: DecisionClassifierTree\n",
      "\n",
      "OriginalData:\n",
      "Accuracy of Decision Tree classifier on training set: 0.99\n",
      "Area under curve: 0.8291316526610644\n",
      "\n",
      "Overfitting:\n",
      "\n",
      "Accuracy of Decision Tree classifier on training set: 0.99\n",
      "Area under curve: 0.9950460504493197\n",
      "Accuracy of Decision Tree classifier on test set: 0.99\n",
      "\n",
      "Underfitting:\n",
      "\n",
      "Accuracy of Decision Tree classifier on training set: 0.94\n",
      "Area under curve: 0.9373737373737373\n",
      "Accuracy of Decision Tree classifier on test set: 0.94\n"
     ]
    }
   ],
   "source": [
    "selectedKBest=SelectKBest(f_classif,k=20).fit_transform(merged_data_frame_withoutDid,onlyFails)\n",
    "selectedKBest\n",
    "\n",
    "from sklearn.model_selection import train_test_split\n",
    "X_train,X_test,y_train,y_test=train_test_split(selectedKBest,onlyFails,random_state=0,shuffle=True)\n",
    "\n",
    "from sklearn.metrics import roc_auc_score\n",
    "clf=DecisionTreeClassifier()\n",
    "clf.max_depth=20\n",
    "clf.fit(X_train,y_train)\n",
    "\n",
    "print(\"After taking more features: DecisionClassifierTree\\n\")\n",
    "\n",
    "print(\"OriginalData:\")\n",
    "print('Accuracy of Decision Tree classifier on training set: {:.2f}'\n",
    "     .format(clf.score(X_test, y_test)))\n",
    "print(\"Area under curve: \"+str(roc_auc_score(y_test, clf.predict_proba(X_test)[:, 1])))\n",
    "\n",
    "print(\"\\nOverfitting:\\n\")\n",
    "over_sampler=RandomOverSampler(random_state=42)\n",
    "X_res_oversample,y_res_oversample=over_sampler.fit_resample(selectedKBest,onlyFails)\n",
    "X_train_oversample,X_test_oversample,y_train_oversample,y_test_oversample=train_test_split(X_res_oversample,y_res_oversample,random_state=0,shuffle=True)\n",
    "clf.fit(X_train_oversample,y_train_oversample)\n",
    "print('Accuracy of Decision Tree classifier on training set: {:.2f}'\n",
    "     .format(clf.score(X_test_oversample, y_test_oversample)))\n",
    "print(\"Area under curve: \"+str(roc_auc_score(y_test_oversample, clf.predict_proba(X_test_oversample)[:, 1])))\n",
    "predictions=clf.predict(X_test_oversample)\n",
    "print('Accuracy of Decision Tree classifier on test set: {:.2f}'\n",
    "     .format(clf.score(X_test_oversample, y_test_oversample)))\n",
    "\n",
    "print(\"\\nUnderfitting:\\n\")\n",
    "under_sampler=RandomUnderSampler(random_state=42)\n",
    "X_res_undersample,y_res_undersample=under_sampler.fit_resample(selectedKBest,onlyFails)\n",
    "X_train_undersample,X_test_undersample,y_train_undersample,y_test_undersample=train_test_split(X_res_undersample,y_res_undersample,random_state=0,shuffle=True)\n",
    "clf.fit(X_train_undersample,y_train_undersample)\n",
    "print('Accuracy of Decision Tree classifier on training set: {:.2f}'\n",
    "     .format(clf.score(X_test_undersample, y_test_undersample)))\n",
    "print(\"Area under curve: \"+str(roc_auc_score(y_test_undersample, clf.predict_proba(X_test_undersample)[:, 1])))\n",
    "predictions=clf.predict(X_test_undersample)\n",
    "print('Accuracy of Decision Tree classifier on test set: {:.2f}'\n",
    "     .format(clf.score(X_test_undersample, y_test_undersample)))\n"
   ]
  },
  {
   "cell_type": "markdown",
   "id": "dc2b6953",
   "metadata": {
    "papermill": {
     "duration": 0.07051,
     "end_time": "2021-11-16T20:45:43.163591",
     "exception": false,
     "start_time": "2021-11-16T20:45:43.093081",
     "status": "completed"
    },
    "tags": []
   },
   "source": [
    "# After adding more features:\n",
    "# The performance of the model was improved!!"
   ]
  },
  {
   "cell_type": "markdown",
   "id": "8a66de60",
   "metadata": {
    "papermill": {
     "duration": 0.06992,
     "end_time": "2021-11-16T20:45:43.303954",
     "exception": false,
     "start_time": "2021-11-16T20:45:43.234034",
     "status": "completed"
    },
    "tags": []
   },
   "source": []
  }
 ],
 "metadata": {
  "kernelspec": {
   "display_name": "Python 3",
   "language": "python",
   "name": "python3"
  },
  "language_info": {
   "codemirror_mode": {
    "name": "ipython",
    "version": 3
   },
   "file_extension": ".py",
   "mimetype": "text/x-python",
   "name": "python",
   "nbconvert_exporter": "python",
   "pygments_lexer": "ipython3",
   "version": "3.7.10"
  },
  "papermill": {
   "default_parameters": {},
   "duration": 52.332021,
   "end_time": "2021-11-16T20:45:44.086182",
   "environment_variables": {},
   "exception": null,
   "input_path": "__notebook__.ipynb",
   "output_path": "__notebook__.ipynb",
   "parameters": {},
   "start_time": "2021-11-16T20:44:51.754161",
   "version": "2.3.3"
  }
 },
 "nbformat": 4,
 "nbformat_minor": 5
}
